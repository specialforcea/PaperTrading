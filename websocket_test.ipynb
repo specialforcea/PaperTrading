{
 "cells": [
  {
   "cell_type": "code",
   "execution_count": 1,
   "metadata": {},
   "outputs": [],
   "source": [
    "from websocket import create_connection\n",
    "\n"
   ]
  },
  {
   "cell_type": "code",
   "execution_count": 20,
   "metadata": {},
   "outputs": [],
   "source": [
    "ws = create_connection(\"wss://stream.data.alpaca.markets/v2/sip\")\n"
   ]
  },
  {
   "cell_type": "code",
   "execution_count": 21,
   "metadata": {},
   "outputs": [
    {
     "name": "stdout",
     "output_type": "stream",
     "text": [
      "[{\"T\":\"success\",\"msg\":\"connected\"}]\n"
     ]
    }
   ],
   "source": [
    "print(ws.recv())\n"
   ]
  },
  {
   "cell_type": "code",
   "execution_count": 22,
   "metadata": {},
   "outputs": [
    {
     "name": "stdout",
     "output_type": "stream",
     "text": [
      "Sending 'Hello, World'...\n",
      "Sent\n",
      "Receiving...\n",
      "Received '[{\"T\":\"error\",\"code\":409,\"msg\":\"insufficient subscription\"}]'\n"
     ]
    }
   ],
   "source": [
    "print(\"Sending 'Hello, World'...\")\n",
    "ws.send('{\"action\":\"auth\",\"key\":\"PKDTE5620V0WYXASPY7B\",\"secret\":\"KWMA0L27G5EJabeELgHjvQapou9GYg8e0xPKdfpe\"}')\n",
    "print(\"Sent\")\n",
    "print(\"Receiving...\")\n",
    "result =  ws.recv()\n",
    "print(\"Received '%s'\" % result)\n"
   ]
  },
  {
   "cell_type": "code",
   "execution_count": 19,
   "metadata": {},
   "outputs": [],
   "source": [
    "ws.close()"
   ]
  }
 ],
 "metadata": {
  "kernelspec": {
   "display_name": "Python 3.9.12 ('PaperTrading')",
   "language": "python",
   "name": "python3"
  },
  "language_info": {
   "codemirror_mode": {
    "name": "ipython",
    "version": 3
   },
   "file_extension": ".py",
   "mimetype": "text/x-python",
   "name": "python",
   "nbconvert_exporter": "python",
   "pygments_lexer": "ipython3",
   "version": "3.9.12"
  },
  "orig_nbformat": 4,
  "vscode": {
   "interpreter": {
    "hash": "c39632c509208b519a70571640cedc0071b5f7747832b2481c7e59206553bfac"
   }
  }
 },
 "nbformat": 4,
 "nbformat_minor": 2
}
