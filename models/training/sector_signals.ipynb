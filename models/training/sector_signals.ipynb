{
 "cells": [
  {
   "cell_type": "markdown",
   "metadata": {},
   "source": [
    "# How to generate long-short trading signals with a Random Forest"
   ]
  },
  {
   "cell_type": "markdown",
   "metadata": {},
   "source": [
    "## Imports & Settings"
   ]
  },
  {
   "cell_type": "code",
   "execution_count": 22,
   "metadata": {
    "ExecuteTime": {
     "end_time": "2021-04-16T00:39:31.003564Z",
     "start_time": "2021-04-16T00:39:30.997727Z"
    }
   },
   "outputs": [],
   "source": [
    "import warnings\n",
    "warnings.filterwarnings('ignore')"
   ]
  },
  {
   "cell_type": "code",
   "execution_count": 23,
   "metadata": {
    "ExecuteTime": {
     "end_time": "2021-04-16T00:39:32.555782Z",
     "start_time": "2021-04-16T00:39:31.361405Z"
    },
    "scrolled": true
   },
   "outputs": [],
   "source": [
    "%matplotlib inline\n",
    "\n",
    "from time import time\n",
    "from io import StringIO\n",
    "import sys, os\n",
    "from tqdm import tqdm\n",
    "\n",
    "from itertools import product\n",
    "from pathlib import Path\n",
    "\n",
    "import numpy as np\n",
    "import pandas as pd\n",
    "import statsmodels.api as sm\n",
    "\n",
    "import matplotlib.pyplot as plt\n",
    "import seaborn as sns\n",
    "\n",
    "import lightgbm as lgb\n",
    "\n",
    "from sklearn.linear_model import LinearRegression\n",
    "from scipy.stats import spearmanr"
   ]
  },
  {
   "cell_type": "code",
   "execution_count": 24,
   "metadata": {
    "ExecuteTime": {
     "end_time": "2021-04-16T00:39:32.560522Z",
     "start_time": "2021-04-16T00:39:32.557203Z"
    },
    "scrolled": true
   },
   "outputs": [],
   "source": [
    "sys.path.insert(1, os.path.join(sys.path[0], '..'))\n",
    "from utils import MultipleTimeSeriesCV, format_time"
   ]
  },
  {
   "cell_type": "code",
   "execution_count": 25,
   "metadata": {
    "ExecuteTime": {
     "end_time": "2021-04-16T00:39:32.601570Z",
     "start_time": "2021-04-16T00:39:32.562218Z"
    },
    "scrolled": true
   },
   "outputs": [],
   "source": [
    "sns.set_style('whitegrid')"
   ]
  },
  {
   "cell_type": "code",
   "execution_count": 26,
   "metadata": {
    "ExecuteTime": {
     "end_time": "2021-04-16T00:39:32.610068Z",
     "start_time": "2021-04-16T00:39:32.602934Z"
    }
   },
   "outputs": [],
   "source": [
    "np.random.seed(42)"
   ]
  },
  {
   "cell_type": "code",
   "execution_count": 27,
   "metadata": {
    "ExecuteTime": {
     "end_time": "2021-04-16T00:39:32.620245Z",
     "start_time": "2021-04-16T00:39:32.611341Z"
    },
    "scrolled": true
   },
   "outputs": [],
   "source": [
    "YEAR = 252\n",
    "idx = pd.IndexSlice"
   ]
  },
  {
   "cell_type": "code",
   "execution_count": 28,
   "metadata": {
    "ExecuteTime": {
     "end_time": "2021-04-16T00:39:32.869505Z",
     "start_time": "2021-04-16T00:39:32.864763Z"
    }
   },
   "outputs": [],
   "source": [
    "DATA_DIR = Path('data')"
   ]
  },
  {
   "cell_type": "code",
   "execution_count": 29,
   "metadata": {
    "ExecuteTime": {
     "end_time": "2021-04-16T00:39:33.377362Z",
     "start_time": "2021-04-16T00:39:33.375100Z"
    }
   },
   "outputs": [],
   "source": [
    "results_path = Path('results', 'return_predictions')\n",
    "if not results_path.exists():\n",
    "    results_path.mkdir(parents=True)"
   ]
  },
  {
   "cell_type": "markdown",
   "metadata": {},
   "source": [
    "## Get Data"
   ]
  },
  {
   "cell_type": "markdown",
   "metadata": {},
   "source": [
    "See the notebook [japanese_equity_features](03_japanese_equity_features.ipynb) in this directory for data preparation."
   ]
  },
  {
   "cell_type": "code",
   "execution_count": 30,
   "metadata": {
    "ExecuteTime": {
     "end_time": "2021-04-16T00:41:53.097614Z",
     "start_time": "2021-04-16T00:41:52.126778Z"
    },
    "scrolled": false
   },
   "outputs": [
    {
     "name": "stdout",
     "output_type": "stream",
     "text": [
      "<class 'pandas.core.frame.DataFrame'>\n",
      "MultiIndex: 53874 entries, ('XLB', Timestamp('1998-12-22 00:00:00')) to ('XLY', Timestamp('2022-10-05 00:00:00'))\n",
      "Data columns (total 23 columns):\n",
      " #   Column           Non-Null Count  Dtype  \n",
      "---  ------           --------------  -----  \n",
      " 0   ret_1            53865 non-null  float64\n",
      " 1   ret_rel_perc_1   53865 non-null  float64\n",
      " 2   ret_5            53829 non-null  float64\n",
      " 3   ret_rel_perc_5   53829 non-null  float64\n",
      " 4   ret_10           53784 non-null  float64\n",
      " 5   ret_rel_perc_10  53784 non-null  float64\n",
      " 6   ret_21           53685 non-null  float64\n",
      " 7   ret_rel_perc_21  53685 non-null  float64\n",
      " 8   ret_63           53307 non-null  float64\n",
      " 9   ret_rel_perc_63  53307 non-null  float64\n",
      " 10  PPO              53649 non-null  float64\n",
      " 11  NATR             53748 non-null  float64\n",
      " 12  RSI              53748 non-null  float64\n",
      " 13  bbl              53838 non-null  float64\n",
      " 14  bbu              53838 non-null  float64\n",
      " 15  weekday          53874 non-null  int64  \n",
      " 16  month            53874 non-null  int64  \n",
      " 17  year             53874 non-null  int64  \n",
      " 18  fwd_ret_01       53865 non-null  float64\n",
      " 19  fwd_ret_05       53829 non-null  float64\n",
      " 20  fwd_ret_10       53784 non-null  float64\n",
      " 21  fwd_ret_21       53685 non-null  float64\n",
      " 22  fwd_ret_63       53307 non-null  float64\n",
      "dtypes: float64(20), int64(3)\n",
      "memory usage: 9.8+ MB\n"
     ]
    }
   ],
   "source": [
    "data = pd.read_hdf('data/sector_data.h5', 'features_data')\n",
    "data.index.set_names('date', level=1, inplace=True)\n",
    "data.info(null_counts=True)"
   ]
  },
  {
   "cell_type": "markdown",
   "metadata": {},
   "source": [
    "We start with 941 tickers."
   ]
  },
  {
   "cell_type": "code",
   "execution_count": 31,
   "metadata": {
    "ExecuteTime": {
     "end_time": "2021-04-16T00:41:54.425801Z",
     "start_time": "2021-04-16T00:41:54.400986Z"
    }
   },
   "outputs": [
    {
     "data": {
      "text/plain": [
       "9"
      ]
     },
     "execution_count": 31,
     "metadata": {},
     "output_type": "execute_result"
    }
   ],
   "source": [
    "len(data.index.unique('ticker'))"
   ]
  },
  {
   "cell_type": "markdown",
   "metadata": {},
   "source": [
    "## MultipleTimeSeriesCV"
   ]
  },
  {
   "cell_type": "markdown",
   "metadata": {},
   "source": [
    "See [Chapter 7 - Linear Models](../07_linear_models) for details."
   ]
  },
  {
   "cell_type": "code",
   "execution_count": 32,
   "metadata": {
    "ExecuteTime": {
     "end_time": "2021-02-23T21:02:52.637665Z",
     "start_time": "2021-02-23T21:02:52.632697Z"
    },
    "scrolled": true
   },
   "outputs": [],
   "source": [
    "cv = MultipleTimeSeriesCV(n_splits=36,\n",
    "                          test_period_length=126,\n",
    "                          lookahead=5,\n",
    "                          train_period_length=2 * 252)"
   ]
  },
  {
   "cell_type": "markdown",
   "metadata": {},
   "source": [
    "For each fold, the train and test periods are separated by a `lookahead` number of periods and thus do not overlap:"
   ]
  },
  {
   "cell_type": "code",
   "execution_count": 33,
   "metadata": {
    "ExecuteTime": {
     "end_time": "2021-02-23T21:02:57.362939Z",
     "start_time": "2021-02-23T21:02:52.638837Z"
    },
    "scrolled": true
   },
   "outputs": [
    {
     "name": "stdout",
     "output_type": "stream",
     "text": [
      "Training: 2020-03-26-2022-03-30  (508 days) | Test: 2022-04-06-2022-10-05 (126 days)\n",
      "Training: 2019-09-25-2021-09-29  (508 days) | Test: 2021-10-06-2022-04-05 (126 days)\n",
      "Training: 2019-03-27-2021-03-31  (508 days) | Test: 2021-04-08-2021-10-05 (126 days)\n",
      "Training: 2018-09-24-2020-09-29  (508 days) | Test: 2020-10-06-2021-04-07 (126 days)\n",
      "Training: 2018-03-26-2020-03-31  (508 days) | Test: 2020-04-07-2020-10-05 (126 days)\n",
      "Training: 2017-09-22-2019-09-30  (508 days) | Test: 2019-10-07-2020-04-06 (126 days)\n",
      "Training: 2017-03-24-2019-04-01  (508 days) | Test: 2019-04-08-2019-10-04 (126 days)\n",
      "Training: 2016-09-22-2018-09-27  (508 days) | Test: 2018-10-04-2019-04-05 (126 days)\n",
      "Training: 2016-03-24-2018-03-29  (508 days) | Test: 2018-04-06-2018-10-03 (126 days)\n",
      "Training: 2015-09-23-2017-09-27  (508 days) | Test: 2017-10-04-2018-04-05 (126 days)\n",
      "Training: 2015-03-25-2017-03-29  (508 days) | Test: 2017-04-05-2017-10-03 (126 days)\n",
      "Training: 2014-09-23-2016-09-27  (508 days) | Test: 2016-10-04-2017-04-04 (126 days)\n",
      "Training: 2014-03-25-2016-03-30  (508 days) | Test: 2016-04-06-2016-10-03 (126 days)\n",
      "Training: 2013-09-23-2015-09-28  (508 days) | Test: 2015-10-05-2016-04-05 (126 days)\n",
      "Training: 2013-03-25-2015-03-30  (508 days) | Test: 2015-04-07-2015-10-02 (126 days)\n",
      "Training: 2012-09-19-2014-09-26  (508 days) | Test: 2014-10-03-2015-04-06 (126 days)\n",
      "Training: 2012-03-21-2014-03-28  (508 days) | Test: 2014-04-04-2014-10-02 (126 days)\n",
      "Training: 2011-09-20-2013-09-26  (508 days) | Test: 2013-10-03-2014-04-03 (126 days)\n",
      "Training: 2011-03-22-2013-03-28  (508 days) | Test: 2013-04-05-2013-10-02 (126 days)\n",
      "Training: 2010-09-21-2012-09-24  (508 days) | Test: 2012-10-01-2013-04-04 (126 days)\n",
      "Training: 2010-03-23-2012-03-26  (508 days) | Test: 2012-04-02-2012-09-28 (126 days)\n",
      "Training: 2009-09-21-2011-09-23  (508 days) | Test: 2011-09-30-2012-03-30 (126 days)\n",
      "Training: 2009-03-23-2011-03-25  (508 days) | Test: 2011-04-01-2011-09-29 (126 days)\n",
      "Training: 2008-09-19-2010-09-24  (508 days) | Test: 2010-10-01-2011-03-31 (126 days)\n",
      "Training: 2008-03-24-2010-03-26  (508 days) | Test: 2010-04-05-2010-09-30 (126 days)\n",
      "Training: 2007-09-20-2009-09-24  (508 days) | Test: 2009-10-01-2010-04-01 (126 days)\n",
      "Training: 2007-03-22-2009-03-26  (508 days) | Test: 2009-04-02-2009-09-30 (126 days)\n",
      "Training: 2006-09-19-2008-09-24  (508 days) | Test: 2008-10-01-2009-04-01 (126 days)\n",
      "Training: 2006-03-21-2008-03-27  (508 days) | Test: 2008-04-03-2008-09-30 (126 days)\n",
      "Training: 2005-09-19-2007-09-25  (508 days) | Test: 2007-10-02-2008-04-02 (126 days)\n",
      "Training: 2005-03-21-2007-03-27  (508 days) | Test: 2007-04-03-2007-10-01 (126 days)\n",
      "Training: 2004-09-20-2006-09-22  (508 days) | Test: 2006-09-29-2007-04-02 (126 days)\n",
      "Training: 2004-03-19-2006-03-24  (508 days) | Test: 2006-03-31-2006-09-28 (126 days)\n",
      "Training: 2003-09-18-2005-09-22  (508 days) | Test: 2005-09-29-2006-03-30 (126 days)\n",
      "Training: 2003-03-20-2005-03-24  (508 days) | Test: 2005-04-01-2005-09-28 (126 days)\n",
      "Training: 2002-09-18-2004-09-23  (508 days) | Test: 2004-09-30-2005-03-31 (126 days)\n"
     ]
    }
   ],
   "source": [
    "for i, (train_idx, test_idx) in enumerate(cv.split(X=data)):\n",
    "    train = data.iloc[train_idx]\n",
    "    train_dates = train.index.get_level_values('date')\n",
    "    test = data.iloc[test_idx]\n",
    "    test_dates = test.index.get_level_values('date')\n",
    "    df = train.reset_index().append(test.reset_index())\n",
    "    n = len(df)\n",
    "    assert n== len(df.drop_duplicates())\n",
    "    msg = f'Training: {train_dates.min().date()}-{train_dates.max().date()} '\n",
    "    msg += f' ({train.groupby(level=\"ticker\").size().value_counts().index[0]:,.0f} days) | '\n",
    "    msg += f'Test: {test_dates.min().date()}-{test_dates.max().date()} '\n",
    "    msg += f'({test.groupby(level=\"ticker\").size().value_counts().index[0]:,.0f} days)'\n",
    "    print(msg)\n",
    "    # if i == 3:\n",
    "    #     break"
   ]
  },
  {
   "cell_type": "markdown",
   "metadata": {},
   "source": [
    "## Model Selection: Time Period and Horizon"
   ]
  },
  {
   "cell_type": "markdown",
   "metadata": {},
   "source": [
    "For the model selection step, we restrict training and validation sets to the 1998-2012 period."
   ]
  },
  {
   "cell_type": "code",
   "execution_count": 34,
   "metadata": {
    "ExecuteTime": {
     "end_time": "2021-02-23T21:03:05.380614Z",
     "start_time": "2021-02-23T21:03:02.618027Z"
    },
    "scrolled": true
   },
   "outputs": [],
   "source": [
    "cv_data = data.loc[idx[:, :'2012'], :]\n",
    "tickers = cv_data.index.unique('ticker')"
   ]
  },
  {
   "cell_type": "markdown",
   "metadata": {},
   "source": [
    "Persist the data to save some time when running another experiment:"
   ]
  },
  {
   "cell_type": "code",
   "execution_count": 35,
   "metadata": {
    "ExecuteTime": {
     "end_time": "2021-02-23T21:03:05.443610Z",
     "start_time": "2021-02-23T21:03:05.381787Z"
    }
   },
   "outputs": [],
   "source": [
    "cv_data.to_hdf('data/sector_data.h5', 'cv_data')"
   ]
  },
  {
   "cell_type": "code",
   "execution_count": 36,
   "metadata": {
    "ExecuteTime": {
     "end_time": "2021-02-23T21:03:05.458303Z",
     "start_time": "2021-02-23T21:03:05.444904Z"
    }
   },
   "outputs": [
    {
     "name": "stdout",
     "output_type": "stream",
     "text": [
      "<class 'pandas.io.pytables.HDFStore'>\n",
      "File path: data/sector_data.h5\n",
      "/cv_data                  frame        (shape->[31752,23])\n",
      "/features_data            frame        (shape->[53874,23])\n"
     ]
    }
   ],
   "source": [
    "with pd.HDFStore('data/sector_data.h5') as store:\n",
    "    print(store.info())"
   ]
  },
  {
   "cell_type": "markdown",
   "metadata": {},
   "source": [
    "We're picking prediction horizons of 1, 5, 10 and 21 days:"
   ]
  },
  {
   "cell_type": "code",
   "execution_count": 37,
   "metadata": {
    "ExecuteTime": {
     "end_time": "2021-02-23T21:03:07.317733Z",
     "start_time": "2021-02-23T21:03:07.315943Z"
    },
    "scrolled": true
   },
   "outputs": [],
   "source": [
    "lookaheads = [1, 5, 10, 21]"
   ]
  },
  {
   "cell_type": "markdown",
   "metadata": {},
   "source": [
    "## Baseline: Linear Regression"
   ]
  },
  {
   "cell_type": "markdown",
   "metadata": {},
   "source": [
    "Since it's quick to run and quite informative, we generate linear regression baseline predictions. See [Chapter 7 - Linear Models](../07_linear_models) for details."
   ]
  },
  {
   "cell_type": "code",
   "execution_count": 38,
   "metadata": {
    "ExecuteTime": {
     "end_time": "2021-02-23T21:03:10.361623Z",
     "start_time": "2021-02-23T21:03:10.359925Z"
    },
    "scrolled": true
   },
   "outputs": [],
   "source": [
    "lr = LinearRegression()"
   ]
  },
  {
   "cell_type": "code",
   "execution_count": 39,
   "metadata": {
    "ExecuteTime": {
     "end_time": "2021-02-23T21:03:10.484894Z",
     "start_time": "2021-02-23T21:03:10.479559Z"
    }
   },
   "outputs": [],
   "source": [
    "labels = sorted(cv_data.filter(like='fwd').columns)\n",
    "features = cv_data.columns.difference(labels).tolist()"
   ]
  },
  {
   "cell_type": "code",
   "execution_count": 40,
   "metadata": {},
   "outputs": [
    {
     "name": "stdout",
     "output_type": "stream",
     "text": [
      "['fwd_ret_01', 'fwd_ret_05', 'fwd_ret_10', 'fwd_ret_21', 'fwd_ret_63'] ['NATR', 'PPO', 'RSI', 'bbl', 'bbu', 'month', 'ret_1', 'ret_10', 'ret_21', 'ret_5', 'ret_63', 'ret_rel_perc_1', 'ret_rel_perc_10', 'ret_rel_perc_21', 'ret_rel_perc_5', 'ret_rel_perc_63', 'weekday', 'year']\n"
     ]
    }
   ],
   "source": [
    "print(labels, features)"
   ]
  },
  {
   "cell_type": "markdown",
   "metadata": {},
   "source": [
    "### CV Parameters"
   ]
  },
  {
   "cell_type": "markdown",
   "metadata": {},
   "source": [
    "We set five different training lengths from 3 months to 5 years, and two test periods as follows:"
   ]
  },
  {
   "cell_type": "code",
   "execution_count": 41,
   "metadata": {
    "ExecuteTime": {
     "end_time": "2021-02-23T21:03:13.489653Z",
     "start_time": "2021-02-23T21:03:13.487857Z"
    },
    "scrolled": true
   },
   "outputs": [],
   "source": [
    "train_lengths = [5 * YEAR, 3 * YEAR, YEAR, 126, 63]\n",
    "test_lengths = [63, 126]"
   ]
  },
  {
   "cell_type": "markdown",
   "metadata": {},
   "source": [
    "Since linear regression has no hyperparameters, our CV parameters are the cartesian product of prediction horizon and train/test period lengths:"
   ]
  },
  {
   "cell_type": "code",
   "execution_count": 42,
   "metadata": {
    "ExecuteTime": {
     "end_time": "2021-02-23T21:03:13.862028Z",
     "start_time": "2021-02-23T21:03:13.860080Z"
    },
    "scrolled": true
   },
   "outputs": [],
   "source": [
    "test_params = list(product(lookaheads, train_lengths, test_lengths))"
   ]
  },
  {
   "cell_type": "markdown",
   "metadata": {},
   "source": [
    "Now we iterate over these parameters and train/validate the linear regression model while capturing the information coefficient of the model predictions, measure both on a daily basis and for each complete fold:"
   ]
  },
  {
   "cell_type": "code",
   "execution_count": 43,
   "metadata": {
    "ExecuteTime": {
     "end_time": "2021-02-23T21:06:13.550374Z",
     "start_time": "2021-02-23T21:03:14.743079Z"
    },
    "scrolled": false
   },
   "outputs": [
    {
     "name": "stderr",
     "output_type": "stream",
     "text": [
      "100%|██████████| 40/40 [00:12<00:00,  3.16it/s]\n"
     ]
    }
   ],
   "source": [
    "lr_metrics = []\n",
    "for lookahead, train_length, test_length in tqdm(test_params):\n",
    "    label = f'fwd_ret_{lookahead:02}'\n",
    "    df = cv_data.loc[:, features + [label]].dropna()\n",
    "    X, y = df.drop(label, axis=1), df[label]\n",
    "\n",
    "    n_splits = int(4 * YEAR / test_length)\n",
    "    cv = MultipleTimeSeriesCV(n_splits=n_splits,\n",
    "                              test_period_length=test_length,\n",
    "                              lookahead=lookahead,\n",
    "                              train_period_length=train_length)\n",
    "\n",
    "    ic, preds = [], []\n",
    "    for i, (train_idx, test_idx) in enumerate(cv.split(X=X)):\n",
    "        X_train, y_train = X.iloc[train_idx], y.iloc[train_idx]\n",
    "        X_test, y_test = X.iloc[test_idx], y.iloc[test_idx]\n",
    "        lr.fit(X_train, y_train)\n",
    "        y_pred = lr.predict(X_test)\n",
    "        preds.append(y_test.to_frame('y_true').assign(y_pred=y_pred))\n",
    "        ic.append(spearmanr(y_test, y_pred)[0])\n",
    "    preds = pd.concat(preds)\n",
    "    lr_metrics.append([\n",
    "        lookahead, train_length, test_length,\n",
    "        np.mean(ic),\n",
    "        spearmanr(preds.y_true, preds.y_pred)[0]\n",
    "    ])\n",
    "\n",
    "columns = ['lookahead', 'train_length', 'test_length', 'ic_by_day', 'ic']\n",
    "lr_metrics = pd.DataFrame(lr_metrics, columns=columns)"
   ]
  },
  {
   "cell_type": "code",
   "execution_count": 32,
   "metadata": {
    "scrolled": true
   },
   "outputs": [
    {
     "data": {
      "text/html": [
       "<div>\n",
       "<style scoped>\n",
       "    .dataframe tbody tr th:only-of-type {\n",
       "        vertical-align: middle;\n",
       "    }\n",
       "\n",
       "    .dataframe tbody tr th {\n",
       "        vertical-align: top;\n",
       "    }\n",
       "\n",
       "    .dataframe thead th {\n",
       "        text-align: right;\n",
       "    }\n",
       "</style>\n",
       "<table border=\"1\" class=\"dataframe\">\n",
       "  <thead>\n",
       "    <tr style=\"text-align: right;\">\n",
       "      <th></th>\n",
       "      <th>lookahead</th>\n",
       "      <th>train_length</th>\n",
       "      <th>test_length</th>\n",
       "      <th>ic_by_day</th>\n",
       "      <th>ic</th>\n",
       "    </tr>\n",
       "  </thead>\n",
       "  <tbody>\n",
       "    <tr>\n",
       "      <th>0</th>\n",
       "      <td>1</td>\n",
       "      <td>1260</td>\n",
       "      <td>63</td>\n",
       "      <td>0.016918</td>\n",
       "      <td>-0.009529</td>\n",
       "    </tr>\n",
       "    <tr>\n",
       "      <th>1</th>\n",
       "      <td>1</td>\n",
       "      <td>1260</td>\n",
       "      <td>126</td>\n",
       "      <td>0.009145</td>\n",
       "      <td>-0.003852</td>\n",
       "    </tr>\n",
       "    <tr>\n",
       "      <th>2</th>\n",
       "      <td>1</td>\n",
       "      <td>756</td>\n",
       "      <td>63</td>\n",
       "      <td>0.011148</td>\n",
       "      <td>-0.015501</td>\n",
       "    </tr>\n",
       "    <tr>\n",
       "      <th>3</th>\n",
       "      <td>1</td>\n",
       "      <td>756</td>\n",
       "      <td>126</td>\n",
       "      <td>0.000583</td>\n",
       "      <td>-0.008390</td>\n",
       "    </tr>\n",
       "    <tr>\n",
       "      <th>4</th>\n",
       "      <td>1</td>\n",
       "      <td>252</td>\n",
       "      <td>63</td>\n",
       "      <td>0.042841</td>\n",
       "      <td>-0.011286</td>\n",
       "    </tr>\n",
       "    <tr>\n",
       "      <th>5</th>\n",
       "      <td>1</td>\n",
       "      <td>252</td>\n",
       "      <td>126</td>\n",
       "      <td>-0.002715</td>\n",
       "      <td>0.028980</td>\n",
       "    </tr>\n",
       "    <tr>\n",
       "      <th>6</th>\n",
       "      <td>1</td>\n",
       "      <td>126</td>\n",
       "      <td>63</td>\n",
       "      <td>0.070402</td>\n",
       "      <td>-0.006601</td>\n",
       "    </tr>\n",
       "    <tr>\n",
       "      <th>7</th>\n",
       "      <td>1</td>\n",
       "      <td>126</td>\n",
       "      <td>126</td>\n",
       "      <td>0.018701</td>\n",
       "      <td>0.017176</td>\n",
       "    </tr>\n",
       "    <tr>\n",
       "      <th>8</th>\n",
       "      <td>1</td>\n",
       "      <td>63</td>\n",
       "      <td>63</td>\n",
       "      <td>0.097338</td>\n",
       "      <td>0.018554</td>\n",
       "    </tr>\n",
       "    <tr>\n",
       "      <th>9</th>\n",
       "      <td>1</td>\n",
       "      <td>63</td>\n",
       "      <td>126</td>\n",
       "      <td>0.059861</td>\n",
       "      <td>0.029135</td>\n",
       "    </tr>\n",
       "    <tr>\n",
       "      <th>10</th>\n",
       "      <td>5</td>\n",
       "      <td>1260</td>\n",
       "      <td>63</td>\n",
       "      <td>0.053650</td>\n",
       "      <td>-0.003672</td>\n",
       "    </tr>\n",
       "    <tr>\n",
       "      <th>11</th>\n",
       "      <td>5</td>\n",
       "      <td>1260</td>\n",
       "      <td>126</td>\n",
       "      <td>0.040861</td>\n",
       "      <td>0.000830</td>\n",
       "    </tr>\n",
       "    <tr>\n",
       "      <th>12</th>\n",
       "      <td>5</td>\n",
       "      <td>756</td>\n",
       "      <td>63</td>\n",
       "      <td>0.038462</td>\n",
       "      <td>-0.027975</td>\n",
       "    </tr>\n",
       "    <tr>\n",
       "      <th>13</th>\n",
       "      <td>5</td>\n",
       "      <td>756</td>\n",
       "      <td>126</td>\n",
       "      <td>0.022155</td>\n",
       "      <td>-0.028460</td>\n",
       "    </tr>\n",
       "    <tr>\n",
       "      <th>14</th>\n",
       "      <td>5</td>\n",
       "      <td>252</td>\n",
       "      <td>63</td>\n",
       "      <td>0.127631</td>\n",
       "      <td>0.036162</td>\n",
       "    </tr>\n",
       "    <tr>\n",
       "      <th>15</th>\n",
       "      <td>5</td>\n",
       "      <td>252</td>\n",
       "      <td>126</td>\n",
       "      <td>0.036150</td>\n",
       "      <td>0.034478</td>\n",
       "    </tr>\n",
       "    <tr>\n",
       "      <th>16</th>\n",
       "      <td>5</td>\n",
       "      <td>126</td>\n",
       "      <td>63</td>\n",
       "      <td>0.132854</td>\n",
       "      <td>-0.015272</td>\n",
       "    </tr>\n",
       "    <tr>\n",
       "      <th>17</th>\n",
       "      <td>5</td>\n",
       "      <td>126</td>\n",
       "      <td>126</td>\n",
       "      <td>0.023539</td>\n",
       "      <td>0.026712</td>\n",
       "    </tr>\n",
       "    <tr>\n",
       "      <th>18</th>\n",
       "      <td>5</td>\n",
       "      <td>63</td>\n",
       "      <td>63</td>\n",
       "      <td>0.153214</td>\n",
       "      <td>0.022447</td>\n",
       "    </tr>\n",
       "    <tr>\n",
       "      <th>19</th>\n",
       "      <td>5</td>\n",
       "      <td>63</td>\n",
       "      <td>126</td>\n",
       "      <td>0.073644</td>\n",
       "      <td>0.030261</td>\n",
       "    </tr>\n",
       "    <tr>\n",
       "      <th>20</th>\n",
       "      <td>10</td>\n",
       "      <td>1260</td>\n",
       "      <td>63</td>\n",
       "      <td>0.009549</td>\n",
       "      <td>-0.075443</td>\n",
       "    </tr>\n",
       "    <tr>\n",
       "      <th>21</th>\n",
       "      <td>10</td>\n",
       "      <td>1260</td>\n",
       "      <td>126</td>\n",
       "      <td>0.000592</td>\n",
       "      <td>-0.055335</td>\n",
       "    </tr>\n",
       "    <tr>\n",
       "      <th>22</th>\n",
       "      <td>10</td>\n",
       "      <td>756</td>\n",
       "      <td>63</td>\n",
       "      <td>-0.009039</td>\n",
       "      <td>-0.071966</td>\n",
       "    </tr>\n",
       "    <tr>\n",
       "      <th>23</th>\n",
       "      <td>10</td>\n",
       "      <td>756</td>\n",
       "      <td>126</td>\n",
       "      <td>-0.001737</td>\n",
       "      <td>-0.054786</td>\n",
       "    </tr>\n",
       "    <tr>\n",
       "      <th>24</th>\n",
       "      <td>10</td>\n",
       "      <td>252</td>\n",
       "      <td>63</td>\n",
       "      <td>0.155596</td>\n",
       "      <td>0.023316</td>\n",
       "    </tr>\n",
       "    <tr>\n",
       "      <th>25</th>\n",
       "      <td>10</td>\n",
       "      <td>252</td>\n",
       "      <td>126</td>\n",
       "      <td>0.034116</td>\n",
       "      <td>0.012742</td>\n",
       "    </tr>\n",
       "    <tr>\n",
       "      <th>26</th>\n",
       "      <td>10</td>\n",
       "      <td>126</td>\n",
       "      <td>63</td>\n",
       "      <td>0.157612</td>\n",
       "      <td>-0.002942</td>\n",
       "    </tr>\n",
       "    <tr>\n",
       "      <th>27</th>\n",
       "      <td>10</td>\n",
       "      <td>126</td>\n",
       "      <td>126</td>\n",
       "      <td>0.029063</td>\n",
       "      <td>0.048106</td>\n",
       "    </tr>\n",
       "    <tr>\n",
       "      <th>28</th>\n",
       "      <td>10</td>\n",
       "      <td>63</td>\n",
       "      <td>63</td>\n",
       "      <td>0.112690</td>\n",
       "      <td>-0.023614</td>\n",
       "    </tr>\n",
       "    <tr>\n",
       "      <th>29</th>\n",
       "      <td>10</td>\n",
       "      <td>63</td>\n",
       "      <td>126</td>\n",
       "      <td>0.080526</td>\n",
       "      <td>-0.019312</td>\n",
       "    </tr>\n",
       "    <tr>\n",
       "      <th>30</th>\n",
       "      <td>21</td>\n",
       "      <td>1260</td>\n",
       "      <td>63</td>\n",
       "      <td>-0.039394</td>\n",
       "      <td>-0.177646</td>\n",
       "    </tr>\n",
       "    <tr>\n",
       "      <th>31</th>\n",
       "      <td>21</td>\n",
       "      <td>1260</td>\n",
       "      <td>126</td>\n",
       "      <td>-0.017671</td>\n",
       "      <td>-0.147938</td>\n",
       "    </tr>\n",
       "    <tr>\n",
       "      <th>32</th>\n",
       "      <td>21</td>\n",
       "      <td>756</td>\n",
       "      <td>63</td>\n",
       "      <td>0.008274</td>\n",
       "      <td>-0.168456</td>\n",
       "    </tr>\n",
       "    <tr>\n",
       "      <th>33</th>\n",
       "      <td>21</td>\n",
       "      <td>756</td>\n",
       "      <td>126</td>\n",
       "      <td>0.036289</td>\n",
       "      <td>-0.113408</td>\n",
       "    </tr>\n",
       "    <tr>\n",
       "      <th>34</th>\n",
       "      <td>21</td>\n",
       "      <td>252</td>\n",
       "      <td>63</td>\n",
       "      <td>0.196881</td>\n",
       "      <td>-0.081502</td>\n",
       "    </tr>\n",
       "    <tr>\n",
       "      <th>35</th>\n",
       "      <td>21</td>\n",
       "      <td>252</td>\n",
       "      <td>126</td>\n",
       "      <td>0.055060</td>\n",
       "      <td>-0.070664</td>\n",
       "    </tr>\n",
       "    <tr>\n",
       "      <th>36</th>\n",
       "      <td>21</td>\n",
       "      <td>126</td>\n",
       "      <td>63</td>\n",
       "      <td>0.208905</td>\n",
       "      <td>-0.001755</td>\n",
       "    </tr>\n",
       "    <tr>\n",
       "      <th>37</th>\n",
       "      <td>21</td>\n",
       "      <td>126</td>\n",
       "      <td>126</td>\n",
       "      <td>-0.022495</td>\n",
       "      <td>0.014435</td>\n",
       "    </tr>\n",
       "    <tr>\n",
       "      <th>38</th>\n",
       "      <td>21</td>\n",
       "      <td>63</td>\n",
       "      <td>63</td>\n",
       "      <td>0.165082</td>\n",
       "      <td>0.027403</td>\n",
       "    </tr>\n",
       "    <tr>\n",
       "      <th>39</th>\n",
       "      <td>21</td>\n",
       "      <td>63</td>\n",
       "      <td>126</td>\n",
       "      <td>0.029659</td>\n",
       "      <td>0.015628</td>\n",
       "    </tr>\n",
       "  </tbody>\n",
       "</table>\n",
       "</div>"
      ],
      "text/plain": [
       "    lookahead  train_length  test_length  ic_by_day        ic\n",
       "0           1          1260           63   0.016918 -0.009529\n",
       "1           1          1260          126   0.009145 -0.003852\n",
       "2           1           756           63   0.011148 -0.015501\n",
       "3           1           756          126   0.000583 -0.008390\n",
       "4           1           252           63   0.042841 -0.011286\n",
       "5           1           252          126  -0.002715  0.028980\n",
       "6           1           126           63   0.070402 -0.006601\n",
       "7           1           126          126   0.018701  0.017176\n",
       "8           1            63           63   0.097338  0.018554\n",
       "9           1            63          126   0.059861  0.029135\n",
       "10          5          1260           63   0.053650 -0.003672\n",
       "11          5          1260          126   0.040861  0.000830\n",
       "12          5           756           63   0.038462 -0.027975\n",
       "13          5           756          126   0.022155 -0.028460\n",
       "14          5           252           63   0.127631  0.036162\n",
       "15          5           252          126   0.036150  0.034478\n",
       "16          5           126           63   0.132854 -0.015272\n",
       "17          5           126          126   0.023539  0.026712\n",
       "18          5            63           63   0.153214  0.022447\n",
       "19          5            63          126   0.073644  0.030261\n",
       "20         10          1260           63   0.009549 -0.075443\n",
       "21         10          1260          126   0.000592 -0.055335\n",
       "22         10           756           63  -0.009039 -0.071966\n",
       "23         10           756          126  -0.001737 -0.054786\n",
       "24         10           252           63   0.155596  0.023316\n",
       "25         10           252          126   0.034116  0.012742\n",
       "26         10           126           63   0.157612 -0.002942\n",
       "27         10           126          126   0.029063  0.048106\n",
       "28         10            63           63   0.112690 -0.023614\n",
       "29         10            63          126   0.080526 -0.019312\n",
       "30         21          1260           63  -0.039394 -0.177646\n",
       "31         21          1260          126  -0.017671 -0.147938\n",
       "32         21           756           63   0.008274 -0.168456\n",
       "33         21           756          126   0.036289 -0.113408\n",
       "34         21           252           63   0.196881 -0.081502\n",
       "35         21           252          126   0.055060 -0.070664\n",
       "36         21           126           63   0.208905 -0.001755\n",
       "37         21           126          126  -0.022495  0.014435\n",
       "38         21            63           63   0.165082  0.027403\n",
       "39         21            63          126   0.029659  0.015628"
      ]
     },
     "execution_count": 32,
     "metadata": {},
     "output_type": "execute_result"
    }
   ],
   "source": [
    "lr_metrics"
   ]
  },
  {
   "cell_type": "code",
   "execution_count": 33,
   "metadata": {
    "ExecuteTime": {
     "end_time": "2021-02-23T21:06:13.559369Z",
     "start_time": "2021-02-23T21:06:13.551735Z"
    },
    "scrolled": true
   },
   "outputs": [
    {
     "name": "stdout",
     "output_type": "stream",
     "text": [
      "<class 'pandas.core.frame.DataFrame'>\n",
      "RangeIndex: 40 entries, 0 to 39\n",
      "Data columns (total 5 columns):\n",
      " #   Column        Non-Null Count  Dtype  \n",
      "---  ------        --------------  -----  \n",
      " 0   lookahead     40 non-null     int64  \n",
      " 1   train_length  40 non-null     int64  \n",
      " 2   test_length   40 non-null     int64  \n",
      " 3   ic_by_day     40 non-null     float64\n",
      " 4   ic            40 non-null     float64\n",
      "dtypes: float64(2), int64(3)\n",
      "memory usage: 1.7 KB\n"
     ]
    }
   ],
   "source": [
    "lr_metrics.info()"
   ]
  },
  {
   "cell_type": "markdown",
   "metadata": {},
   "source": [
    "### Information Coefficient distribution by Lookahead"
   ]
  },
  {
   "cell_type": "markdown",
   "metadata": {},
   "source": [
    "Convert the data to long `seaborn`-friendly format:"
   ]
  },
  {
   "cell_type": "code",
   "execution_count": 45,
   "metadata": {
    "ExecuteTime": {
     "end_time": "2021-02-23T21:06:13.581232Z",
     "start_time": "2021-02-23T21:06:13.560493Z"
    }
   },
   "outputs": [
    {
     "name": "stdout",
     "output_type": "stream",
     "text": [
      "<class 'pandas.core.frame.DataFrame'>\n",
      "Int64Index: 80 entries, 0 to 39\n",
      "Data columns (total 5 columns):\n",
      " #   Column        Non-Null Count  Dtype  \n",
      "---  ------        --------------  -----  \n",
      " 0   Lookahead     80 non-null     int64  \n",
      " 1   Train Length  80 non-null     int64  \n",
      " 2   Test Length   80 non-null     int64  \n",
      " 3   IC            80 non-null     float64\n",
      " 4   Measure       80 non-null     object \n",
      "dtypes: float64(1), int64(3), object(1)\n",
      "memory usage: 3.8+ KB\n"
     ]
    }
   ],
   "source": [
    "lr_metrics_long = pd.concat([(lr_metrics.drop('ic', axis=1)\n",
    "                              .rename(columns={'ic_by_day': 'ic'})\n",
    "                              .assign(Measured='By Day')),\n",
    "                             lr_metrics.drop('ic_by_day', axis=1)\n",
    "                             .assign(Measured='Overall')])\n",
    "lr_metrics_long.columns=['Lookahead', 'Train Length', 'Test Length', 'IC', 'Measure']\n",
    "lr_metrics_long.info()"
   ]
  },
  {
   "cell_type": "markdown",
   "metadata": {},
   "source": [
    "Plot both IC measures for the various CV parameters:"
   ]
  },
  {
   "cell_type": "code",
   "execution_count": 46,
   "metadata": {
    "ExecuteTime": {
     "end_time": "2021-02-23T21:06:14.939908Z",
     "start_time": "2021-02-23T21:06:13.694370Z"
    }
   },
   "outputs": [
    {
     "data": {
      "text/plain": [
       "<seaborn.axisgrid.FacetGrid at 0x7fd4675278b0>"
      ]
     },
     "execution_count": 46,
     "metadata": {},
     "output_type": "execute_result"
    },
    {
     "data": {
      "image/png": "[encoded data removed]",
      "text/plain": [
       "<Figure size 1499.88x720 with 8 Axes>"
      ]
     },
     "metadata": {},
     "output_type": "display_data"
    }
   ],
   "source": [
    "sns.catplot(x='Train Length',\n",
    "            y='IC',\n",
    "            hue='Test Length',\n",
    "            col='Lookahead',\n",
    "            row='Measure',\n",
    "            data=lr_metrics_long,\n",
    "            kind='bar')"
   ]
  },
  {
   "cell_type": "markdown",
   "metadata": {},
   "source": [
    "Compare the distributions of each IC metric for the different prediction horizons:"
   ]
  },
  {
   "cell_type": "code",
   "execution_count": 47,
   "metadata": {
    "ExecuteTime": {
     "end_time": "2021-02-23T21:06:21.531611Z",
     "start_time": "2021-02-23T21:06:21.262501Z"
    }
   },
   "outputs": [
    {
     "data": {
      "image/png": "[encoded data removed]",
      "text/plain": [
       "<Figure size 1008x360 with 2 Axes>"
      ]
     },
     "metadata": {},
     "output_type": "display_data"
    }
   ],
   "source": [
    "fig, axes =plt.subplots(ncols=2, figsize=(14,5), sharey=True)\n",
    "sns.boxplot(x='lookahead', y='ic_by_day',data=lr_metrics, ax=axes[0])\n",
    "axes[0].set_title('IC by Day')\n",
    "sns.boxplot(x='lookahead', y='ic',data=lr_metrics, ax=axes[1])\n",
    "axes[1].set_title('IC Overall')\n",
    "axes[0].set_ylabel('Information Coefficient')\n",
    "axes[1].set_ylabel('')\n",
    "sns.despine()\n",
    "fig.tight_layout()"
   ]
  },
  {
   "cell_type": "markdown",
   "metadata": {},
   "source": [
    "### Best Train/Test Period Lengths"
   ]
  },
  {
   "cell_type": "markdown",
   "metadata": {},
   "source": [
    "Show the best train/test period settings for the four prediction horizons:"
   ]
  },
  {
   "cell_type": "code",
   "execution_count": 48,
   "metadata": {
    "ExecuteTime": {
     "end_time": "2021-02-23T21:06:38.980665Z",
     "start_time": "2021-02-23T21:06:38.968811Z"
    },
    "scrolled": false
   },
   "outputs": [
    {
     "data": {
      "text/html": [
       "<div>\n",
       "<style scoped>\n",
       "    .dataframe tbody tr th:only-of-type {\n",
       "        vertical-align: middle;\n",
       "    }\n",
       "\n",
       "    .dataframe tbody tr th {\n",
       "        vertical-align: top;\n",
       "    }\n",
       "\n",
       "    .dataframe thead th {\n",
       "        text-align: right;\n",
       "    }\n",
       "</style>\n",
       "<table border=\"1\" class=\"dataframe\">\n",
       "  <thead>\n",
       "    <tr style=\"text-align: right;\">\n",
       "      <th></th>\n",
       "      <th>lookahead</th>\n",
       "      <th>train_length</th>\n",
       "      <th>test_length</th>\n",
       "      <th>ic_by_day</th>\n",
       "      <th>ic</th>\n",
       "    </tr>\n",
       "  </thead>\n",
       "  <tbody>\n",
       "    <tr>\n",
       "      <th>9</th>\n",
       "      <td>1</td>\n",
       "      <td>63</td>\n",
       "      <td>126</td>\n",
       "      <td>0.059861</td>\n",
       "      <td>0.029135</td>\n",
       "    </tr>\n",
       "    <tr>\n",
       "      <th>5</th>\n",
       "      <td>1</td>\n",
       "      <td>252</td>\n",
       "      <td>126</td>\n",
       "      <td>-0.002715</td>\n",
       "      <td>0.028980</td>\n",
       "    </tr>\n",
       "    <tr>\n",
       "      <th>8</th>\n",
       "      <td>1</td>\n",
       "      <td>63</td>\n",
       "      <td>63</td>\n",
       "      <td>0.097338</td>\n",
       "      <td>0.018554</td>\n",
       "    </tr>\n",
       "    <tr>\n",
       "      <th>17</th>\n",
       "      <td>5</td>\n",
       "      <td>126</td>\n",
       "      <td>126</td>\n",
       "      <td>0.012041</td>\n",
       "      <td>0.031131</td>\n",
       "    </tr>\n",
       "    <tr>\n",
       "      <th>19</th>\n",
       "      <td>5</td>\n",
       "      <td>63</td>\n",
       "      <td>126</td>\n",
       "      <td>0.007180</td>\n",
       "      <td>0.020979</td>\n",
       "    </tr>\n",
       "    <tr>\n",
       "      <th>15</th>\n",
       "      <td>5</td>\n",
       "      <td>252</td>\n",
       "      <td>126</td>\n",
       "      <td>0.002751</td>\n",
       "      <td>0.011609</td>\n",
       "    </tr>\n",
       "    <tr>\n",
       "      <th>27</th>\n",
       "      <td>10</td>\n",
       "      <td>126</td>\n",
       "      <td>126</td>\n",
       "      <td>0.031081</td>\n",
       "      <td>0.022494</td>\n",
       "    </tr>\n",
       "    <tr>\n",
       "      <th>26</th>\n",
       "      <td>10</td>\n",
       "      <td>126</td>\n",
       "      <td>63</td>\n",
       "      <td>0.025315</td>\n",
       "      <td>0.020030</td>\n",
       "    </tr>\n",
       "    <tr>\n",
       "      <th>29</th>\n",
       "      <td>10</td>\n",
       "      <td>63</td>\n",
       "      <td>126</td>\n",
       "      <td>0.029522</td>\n",
       "      <td>0.013924</td>\n",
       "    </tr>\n",
       "    <tr>\n",
       "      <th>32</th>\n",
       "      <td>21</td>\n",
       "      <td>756</td>\n",
       "      <td>63</td>\n",
       "      <td>0.023136</td>\n",
       "      <td>0.013354</td>\n",
       "    </tr>\n",
       "    <tr>\n",
       "      <th>31</th>\n",
       "      <td>21</td>\n",
       "      <td>1260</td>\n",
       "      <td>126</td>\n",
       "      <td>0.025740</td>\n",
       "      <td>0.008660</td>\n",
       "    </tr>\n",
       "    <tr>\n",
       "      <th>30</th>\n",
       "      <td>21</td>\n",
       "      <td>1260</td>\n",
       "      <td>63</td>\n",
       "      <td>0.021617</td>\n",
       "      <td>0.007124</td>\n",
       "    </tr>\n",
       "  </tbody>\n",
       "</table>\n",
       "</div>"
      ],
      "text/plain": [
       "    lookahead  train_length  test_length  ic_by_day        ic\n",
       "9           1            63          126   0.059861  0.029135\n",
       "5           1           252          126  -0.002715  0.028980\n",
       "8           1            63           63   0.097338  0.018554\n",
       "17          5           126          126   0.012041  0.031131\n",
       "19          5            63          126   0.007180  0.020979\n",
       "15          5           252          126   0.002751  0.011609\n",
       "27         10           126          126   0.031081  0.022494\n",
       "26         10           126           63   0.025315  0.020030\n",
       "29         10            63          126   0.029522  0.013924\n",
       "32         21           756           63   0.023136  0.013354\n",
       "31         21          1260          126   0.025740  0.008660\n",
       "30         21          1260           63   0.021617  0.007124"
      ]
     },
     "execution_count": 48,
     "metadata": {},
     "output_type": "execute_result"
    }
   ],
   "source": [
    "(lr_metrics.groupby('lookahead', group_keys=False)\n",
    " .apply(lambda x: x.nlargest(3, 'ic')))"
   ]
  },
  {
   "cell_type": "code",
   "execution_count": 49,
   "metadata": {
    "ExecuteTime": {
     "end_time": "2021-02-23T21:06:39.692899Z",
     "start_time": "2021-02-23T21:06:39.687816Z"
    }
   },
   "outputs": [],
   "source": [
    "lr_metrics.to_csv(results_path / 'sector_lin_reg_performance.csv', index=False)"
   ]
  },
  {
   "cell_type": "markdown",
   "metadata": {},
   "source": [
    "## LightGBM Random Forest Model Tuning"
   ]
  },
  {
   "cell_type": "markdown",
   "metadata": {},
   "source": [
    "Helper function to obtain the LightGBM feature importance metrics:"
   ]
  },
  {
   "cell_type": "code",
   "execution_count": 50,
   "metadata": {
    "ExecuteTime": {
     "end_time": "2021-02-23T21:06:42.973574Z",
     "start_time": "2021-02-23T21:06:42.971491Z"
    }
   },
   "outputs": [],
   "source": [
    "def get_fi(model):\n",
    "    fi = model.feature_importance(importance_type='gain')\n",
    "    return (pd.Series(fi / fi.sum(),\n",
    "                      index=model.feature_name()))"
   ]
  },
  {
   "cell_type": "markdown",
   "metadata": {},
   "source": [
    "LightGBM base parameter settings that are independent of hyperparameter tuning:"
   ]
  },
  {
   "cell_type": "code",
   "execution_count": 51,
   "metadata": {
    "ExecuteTime": {
     "end_time": "2021-02-23T21:06:43.275439Z",
     "start_time": "2021-02-23T21:06:43.273605Z"
    },
    "scrolled": true
   },
   "outputs": [],
   "source": [
    "base_params = dict(boosting_type='rf',\n",
    "                   objective='regression',\n",
    "                   bagging_freq=1,\n",
    "                   verbose=-1)"
   ]
  },
  {
   "cell_type": "markdown",
   "metadata": {},
   "source": [
    "### Hyperparameter Options"
   ]
  },
  {
   "cell_type": "markdown",
   "metadata": {},
   "source": [
    "We run this experiment with different parameters for the bagging and feature fractions that determine the degree of randomization as well as the minimum number of samples for a split to control overfitting:"
   ]
  },
  {
   "cell_type": "code",
   "execution_count": 52,
   "metadata": {
    "ExecuteTime": {
     "end_time": "2021-02-23T21:06:43.723643Z",
     "start_time": "2021-02-23T21:06:43.721635Z"
    },
    "scrolled": true
   },
   "outputs": [],
   "source": [
    "bagging_fraction_opts = [.5, .75, .95]\n",
    "feature_fraction_opts = [.75, .95]\n",
    "# min_data_in_leaf_opts = [250, 500, 1000]\n",
    "min_data_in_leaf_opts = [100, 250, 500]"
   ]
  },
  {
   "cell_type": "markdown",
   "metadata": {},
   "source": [
    "This gives us 3x2x3=18 parameter combinations:"
   ]
  },
  {
   "cell_type": "code",
   "execution_count": 53,
   "metadata": {
    "ExecuteTime": {
     "end_time": "2021-02-23T21:06:44.011435Z",
     "start_time": "2021-02-23T21:06:44.008386Z"
    },
    "scrolled": true
   },
   "outputs": [
    {
     "data": {
      "text/plain": [
       "18"
      ]
     },
     "execution_count": 53,
     "metadata": {},
     "output_type": "execute_result"
    }
   ],
   "source": [
    "cv_params = list(product(bagging_fraction_opts,\n",
    "                         feature_fraction_opts,\n",
    "                         min_data_in_leaf_opts))\n",
    "n_cv_params = len(cv_params)\n",
    "n_cv_params"
   ]
  },
  {
   "cell_type": "markdown",
   "metadata": {},
   "source": [
    "#### Random Sample"
   ]
  },
  {
   "cell_type": "markdown",
   "metadata": {},
   "source": [
    "To limit the running time, we can randomly sample a subset of the parameter combinations (here: 50%):"
   ]
  },
  {
   "cell_type": "code",
   "execution_count": 54,
   "metadata": {
    "ExecuteTime": {
     "end_time": "2021-02-23T21:06:47.930930Z",
     "start_time": "2021-02-23T21:06:47.927983Z"
    }
   },
   "outputs": [
    {
     "name": "stdout",
     "output_type": "stream",
     "text": [
      "# CV parameters: 9\n"
     ]
    }
   ],
   "source": [
    "sample_proportion = .5\n",
    "sample_size = int(sample_proportion * n_cv_params)\n",
    "\n",
    "cv_param_sample = np.random.choice(list(range(n_cv_params)), \n",
    "                                     size=int(sample_size), \n",
    "                                     replace=False)\n",
    "cv_params_ = [cv_params[i] for i in cv_param_sample]\n",
    "print('# CV parameters:', len(cv_params_))"
   ]
  },
  {
   "cell_type": "markdown",
   "metadata": {},
   "source": [
    "We tune the number of trees by evaluating a fully grown forest for various smaller sizes:"
   ]
  },
  {
   "cell_type": "code",
   "execution_count": 55,
   "metadata": {
    "ExecuteTime": {
     "end_time": "2021-02-23T21:06:55.150158Z",
     "start_time": "2021-02-23T21:06:55.148138Z"
    },
    "scrolled": true
   },
   "outputs": [],
   "source": [
    "num_iterations = [25] + list(range(50, 501, 25))\n",
    "num_boost_round = num_iterations[-1]"
   ]
  },
  {
   "cell_type": "markdown",
   "metadata": {},
   "source": [
    "### Train/Test Period Lenghts"
   ]
  },
  {
   "cell_type": "markdown",
   "metadata": {},
   "source": [
    "As above for linear regression, we define a range of train/test period length:"
   ]
  },
  {
   "cell_type": "markdown",
   "metadata": {},
   "source": [
    "#### Define parameters"
   ]
  },
  {
   "cell_type": "code",
   "execution_count": 56,
   "metadata": {
    "ExecuteTime": {
     "end_time": "2021-02-23T21:06:58.294789Z",
     "start_time": "2021-02-23T21:06:58.292755Z"
    },
    "scrolled": true
   },
   "outputs": [],
   "source": [
    "train_lengths = [5 * YEAR, 3 * YEAR, YEAR, 126, 63]\n",
    "test_lengths = [63, 126]"
   ]
  },
  {
   "cell_type": "code",
   "execution_count": 57,
   "metadata": {
    "ExecuteTime": {
     "end_time": "2021-02-23T21:06:58.593988Z",
     "start_time": "2021-02-23T21:06:58.592185Z"
    }
   },
   "outputs": [],
   "source": [
    "test_params = list(product(train_lengths, test_lengths))\n",
    "n_test_params = len(test_params)"
   ]
  },
  {
   "cell_type": "markdown",
   "metadata": {},
   "source": [
    "#### Random sample"
   ]
  },
  {
   "cell_type": "markdown",
   "metadata": {},
   "source": [
    "Just as for the model parameters, we can randomly sample from the 5 x 2 = 8 training configurations (here: 50%):"
   ]
  },
  {
   "cell_type": "code",
   "execution_count": 58,
   "metadata": {
    "ExecuteTime": {
     "end_time": "2021-02-23T21:07:03.099343Z",
     "start_time": "2021-02-23T21:07:03.096099Z"
    },
    "scrolled": false
   },
   "outputs": [
    {
     "name": "stdout",
     "output_type": "stream",
     "text": [
      "Train configs: 5\n",
      "CV Iterations: 45\n"
     ]
    }
   ],
   "source": [
    "sample_proportion = 0.5\n",
    "sample_size = int(sample_proportion * n_test_params)\n",
    "\n",
    "test_param_sample = np.random.choice(list(range(n_test_params)), \n",
    "                                     size=int(sample_size), \n",
    "                                     replace=False)\n",
    "test_params_ = [test_params[i] for i in test_param_sample]\n",
    "print('Train configs:', len(test_params_))\n",
    "print('CV Iterations:', len(cv_params_) * len(test_params_))"
   ]
  },
  {
   "cell_type": "markdown",
   "metadata": {},
   "source": [
    "### Categorical Variables"
   ]
  },
  {
   "cell_type": "markdown",
   "metadata": {},
   "source": [
    "To leverage LightGBM's ability to handle categorical variables, we need to define them; we'll also `factorize` them so they are both integer-encoded and start at zero (optional, but otherwise throws a warning) as expected by LightGBM:"
   ]
  },
  {
   "cell_type": "code",
   "execution_count": 59,
   "metadata": {
    "ExecuteTime": {
     "end_time": "2021-02-23T21:07:13.475533Z",
     "start_time": "2021-02-23T21:07:13.416092Z"
    },
    "scrolled": true
   },
   "outputs": [],
   "source": [
    "categoricals = ['year', 'weekday', 'month']\n",
    "for feature in categoricals:\n",
    "    data[feature] = pd.factorize(data[feature], sort=True)[0]"
   ]
  },
  {
   "cell_type": "markdown",
   "metadata": {},
   "source": [
    "### Run Cross-Validation"
   ]
  },
  {
   "cell_type": "markdown",
   "metadata": {},
   "source": [
    "Set up some helper variabels and storage locations to faciliate the CV process and result storage:"
   ]
  },
  {
   "cell_type": "code",
   "execution_count": 60,
   "metadata": {
    "ExecuteTime": {
     "end_time": "2021-02-23T21:07:19.937133Z",
     "start_time": "2021-02-23T21:07:19.932175Z"
    },
    "scrolled": true
   },
   "outputs": [],
   "source": [
    "labels = sorted(cv_data.filter(like='fwd').columns)\n",
    "features = cv_data.columns.difference(labels).tolist()"
   ]
  },
  {
   "cell_type": "code",
   "execution_count": 61,
   "metadata": {
    "ExecuteTime": {
     "end_time": "2021-02-23T21:07:20.139982Z",
     "start_time": "2021-02-23T21:07:20.138149Z"
    },
    "scrolled": true
   },
   "outputs": [],
   "source": [
    "label_dict = dict(zip(lookaheads, labels))"
   ]
  },
  {
   "cell_type": "code",
   "execution_count": 62,
   "metadata": {
    "ExecuteTime": {
     "end_time": "2021-02-23T21:07:20.359622Z",
     "start_time": "2021-02-23T21:07:20.357958Z"
    },
    "scrolled": true
   },
   "outputs": [],
   "source": [
    "cv_store = Path(results_path / 'parameter_tuning.h5')"
   ]
  },
  {
   "cell_type": "code",
   "execution_count": 63,
   "metadata": {
    "ExecuteTime": {
     "end_time": "2021-02-23T21:07:20.542696Z",
     "start_time": "2021-02-23T21:07:20.540238Z"
    }
   },
   "outputs": [],
   "source": [
    "ic_cols = ['bagging_fraction',\n",
    "           'feature_fraction',\n",
    "           'min_data_in_leaf',\n",
    "           't'] + [str(n) for n in num_iterations]"
   ]
  },
  {
   "cell_type": "markdown",
   "metadata": {},
   "source": [
    "Now we take the following steps:\n",
    "- we iterate over the prediction horizons and train/test period length, \n",
    "- set up the `MultipleTimeSeriesCV` accordingly\n",
    "- create the binary LightGBM dataset with the appropriate target, and\n",
    "- iterate over the model hyperparamters to train and validate the model while capturing the relevant performance metrics:"
   ]
  },
  {
   "cell_type": "code",
   "execution_count": 65,
   "metadata": {
    "ExecuteTime": {
     "end_time": "2020-06-20T13:37:54.346461Z",
     "start_time": "2020-06-20T04:04:55.813656Z"
    },
    "scrolled": true
   },
   "outputs": [
    {
     "name": "stdout",
     "output_type": "stream",
     "text": [
      "Lookahead:  1 | Train:  63 | Test: 126 | Params:   9\n",
      "  0 | 00:00:36 | 50% | 75% |   100 |  0.73% |  3.48% |  4.30%\n",
      "  1 | 00:00:48 | 50% | 75% |   250 |   nan% |   nan% |   nan%\n",
      "  2 | 00:00:59 | 75% | 75% |   500 |   nan% |   nan% |   nan%\n",
      "  3 | 00:01:10 | 50% | 95% |   500 |   nan% |   nan% |   nan%\n",
      "  4 | 00:01:44 | 50% | 95% |   100 |  0.58% |  3.21% |  3.33%\n",
      "  5 | 00:02:18 | 95% | 75% |   250 |  1.99% |  1.99% |  2.75%\n",
      "  6 | 00:02:51 | 95% | 95% |   250 |  1.93% |  2.51% |  3.50%\n",
      "  7 | 00:03:25 | 95% | 95% |   100 |  2.06% |  1.09% |  2.58%\n",
      "  8 | 00:03:36 | 75% | 95% |   500 |   nan% |   nan% |   nan%\n",
      "Lookahead:  1 | Train: 756 | Test: 63 | Params:   9\n",
      "  0 | 00:00:53 | 50% | 75% |   100 |  1.69% |  0.09% |  1.67%\n",
      "  1 | 00:01:37 | 50% | 75% |   250 |  1.06% |  1.38% |  1.67%\n",
      "  2 | 00:02:19 | 75% | 75% |   500 |  0.74% |  0.94% |  1.67%\n",
      "  3 | 00:03:00 | 50% | 95% |   500 | -0.83% |  0.82% |  1.67%\n",
      "  4 | 00:03:54 | 50% | 95% |   100 |  1.85% |  0.45% |  1.67%\n",
      "  5 | 00:04:42 | 95% | 75% |   250 |  2.96% |  1.21% |  1.67%\n",
      "  6 | 00:05:32 | 95% | 95% |   250 |  3.37% |  1.87% |  3.33%\n",
      "  7 | 00:06:32 | 95% | 95% |   100 |  2.20% |  1.83% |  3.33%\n",
      "  8 | 00:07:13 | 75% | 95% |   500 |  0.78% |  0.87% |  2.92%\n",
      "Lookahead:  1 | Train: 1260 | Test: 63 | Params:   9\n",
      "  0 | 00:01:16 | 50% | 75% |   100 |  0.85% |  1.37% |  1.67%\n",
      "  1 | 00:02:20 | 50% | 75% |   250 |  1.95% |  1.34% |  1.67%\n",
      "  2 | 00:03:10 | 75% | 75% |   500 |  3.48% |  1.38% |  1.67%\n",
      "  3 | 00:03:55 | 50% | 95% |   500 |  1.14% |  0.93% |  0.00%\n",
      "  4 | 00:04:58 | 50% | 95% |   100 |  1.24% |  0.66% |  1.67%\n",
      "  5 | 00:05:54 | 95% | 75% |   250 |  2.82% |  0.93% |  0.00%\n",
      "  6 | 00:06:52 | 95% | 95% |   250 |  3.22% |  1.05% |  1.67%\n",
      "  7 | 00:07:52 | 95% | 95% |   100 |  1.66% |  2.32% |  5.00%\n",
      "  8 | 00:08:38 | 75% | 95% |   500 |  3.50% |  1.55% |  1.67%\n",
      "Lookahead:  1 | Train: 126 | Test: 63 | Params:   9\n",
      "  0 | 00:00:36 | 50% | 75% |   100 | -0.35% |  1.34% |  3.33%\n",
      "  1 | 00:01:10 | 50% | 75% |   250 |  0.59% |  0.86% |  1.68%\n",
      "  2 | 00:01:21 | 75% | 75% |   500 |   nan% |   nan% |   nan%\n",
      "  3 | 00:01:33 | 50% | 95% |   500 |   nan% |   nan% |   nan%\n",
      "  4 | 00:02:09 | 50% | 95% |   100 | -0.46% |  1.29% |  3.33%\n",
      "  5 | 00:02:44 | 95% | 75% |   250 | -1.83% |  0.89% |  2.51%\n",
      "  6 | 00:03:19 | 95% | 95% |   250 | -2.39% | -0.09% |  1.33%\n",
      "  7 | 00:04:04 | 95% | 95% |   100 |  0.27% | -0.22% |  0.00%\n",
      "  8 | 00:04:17 | 75% | 95% |   500 |   nan% |   nan% |   nan%\n",
      "Lookahead:  1 | Train:  63 | Test: 63 | Params:   9\n",
      "  0 | 00:00:39 | 50% | 75% |   100 | -1.79% |  1.69% |  1.68%\n",
      "  1 | 00:00:51 | 50% | 75% |   250 |   nan% |   nan% |   nan%\n",
      "  2 | 00:01:04 | 75% | 75% |   500 |   nan% |   nan% |   nan%\n",
      "  3 | 00:01:17 | 50% | 95% |   500 |   nan% |   nan% |   nan%\n",
      "  4 | 00:01:54 | 50% | 95% |   100 | -1.99% |  1.25% |  1.77%\n",
      "  5 | 00:02:27 | 95% | 75% |   250 | -1.31% |  1.89% |  2.53%\n",
      "  6 | 00:02:59 | 95% | 95% |   250 | -1.88% |  1.41% |  1.72%\n",
      "  7 | 00:03:33 | 95% | 95% |   100 | -1.49% |  0.54% |  1.67%\n",
      "  8 | 00:03:44 | 75% | 95% |   500 |   nan% |   nan% |   nan%\n",
      "Lookahead:  5 | Train:  63 | Test: 126 | Params:   9\n",
      "  0 | 00:00:33 | 50% | 75% |   100 |  0.27% |  0.77% |  1.67%\n",
      "  1 | 00:00:44 | 50% | 75% |   250 |   nan% |   nan% |   nan%\n",
      "  2 | 00:00:55 | 75% | 75% |   500 |   nan% |   nan% |   nan%\n",
      "  3 | 00:01:06 | 50% | 95% |   500 |   nan% |   nan% |   nan%\n",
      "  4 | 00:01:39 | 50% | 95% |   100 |  0.70% |  0.67% |  1.67%\n",
      "  5 | 00:02:11 | 95% | 75% |   250 | -2.96% | -0.17% |  0.00%\n",
      "  6 | 00:02:42 | 95% | 95% |   250 | -2.62% |  0.05% |  0.00%\n",
      "  7 | 00:03:17 | 95% | 95% |   100 | -1.38% | -0.31% |  1.67%\n",
      "  8 | 00:03:27 | 75% | 95% |   500 |   nan% |   nan% |   nan%\n",
      "Lookahead:  5 | Train: 756 | Test: 63 | Params:   9\n",
      "  0 | 00:00:52 | 50% | 75% |   100 | -0.52% |  1.45% |  1.67%\n",
      "  1 | 00:01:34 | 50% | 75% |   250 | -0.75% |  1.01% |  0.00%\n",
      "  2 | 00:02:17 | 75% | 75% |   500 | -0.86% |  1.68% |  1.67%\n",
      "  3 | 00:03:01 | 50% | 95% |   500 |  0.86% |  1.55% |  1.67%\n",
      "  4 | 00:03:52 | 50% | 95% |   100 | -0.02% |  0.97% |  1.67%\n",
      "  5 | 00:04:41 | 95% | 75% |   250 | -0.71% |  1.36% |  1.67%\n",
      "  6 | 00:05:28 | 95% | 95% |   250 | -0.08% |  0.73% |  0.00%\n",
      "  7 | 00:06:27 | 95% | 95% |   100 |  1.73% |  0.68% |  1.67%\n",
      "  8 | 00:07:10 | 75% | 95% |   500 | -0.20% |  1.40% |  1.67%\n",
      "Lookahead:  5 | Train: 1260 | Test: 63 | Params:   9\n",
      "  0 | 00:01:02 | 50% | 75% |   100 |  2.02% |  1.27% |  2.50%\n",
      "  1 | 00:01:53 | 50% | 75% |   250 |  1.01% |  0.69% |  0.00%\n",
      "  2 | 00:02:38 | 75% | 75% |   500 |  2.58% |  1.42% |  1.67%\n",
      "  3 | 00:03:24 | 50% | 95% |   500 |  1.57% |  1.11% |  1.67%\n",
      "  4 | 00:04:27 | 50% | 95% |   100 |  2.20% |  1.67% |  2.50%\n",
      "  5 | 00:05:28 | 95% | 75% |   250 |  1.89% |  0.20% |  1.67%\n",
      "  6 | 00:06:24 | 95% | 95% |   250 |  1.71% |  0.15% |  1.67%\n",
      "  7 | 00:07:25 | 95% | 95% |   100 |  2.56% | -0.25% |  0.00%\n",
      "  8 | 00:08:11 | 75% | 95% |   500 |  2.70% |  1.32% |  1.67%\n",
      "Lookahead:  5 | Train: 126 | Test: 63 | Params:   9\n",
      "  0 | 00:00:37 | 50% | 75% |   100 |  0.57% |  0.79% |  1.67%\n",
      "  1 | 00:01:13 | 50% | 75% |   250 | -1.09% |  0.35% |  0.00%\n",
      "  2 | 00:01:24 | 75% | 75% |   500 |   nan% |   nan% |   nan%\n",
      "  3 | 00:01:36 | 50% | 95% |   500 |   nan% |   nan% |   nan%\n",
      "  4 | 00:02:22 | 50% | 95% |   100 |  1.19% |  1.11% |  3.77%\n",
      "  5 | 00:02:58 | 95% | 75% |   250 |  0.70% |  1.03% |  1.28%\n",
      "  6 | 00:03:33 | 95% | 95% |   250 |  1.11% |  1.79% |  1.67%\n",
      "  7 | 00:04:10 | 95% | 95% |   100 |  0.65% | -0.03% |  0.00%\n",
      "  8 | 00:04:23 | 75% | 95% |   500 |   nan% |   nan% |   nan%\n",
      "Lookahead:  5 | Train:  63 | Test: 63 | Params:   9\n",
      "  0 | 00:00:34 | 50% | 75% |   100 | -1.55% |  1.39% |  3.33%\n",
      "  1 | 00:00:46 | 50% | 75% |   250 |   nan% |   nan% |   nan%\n",
      "  2 | 00:00:58 | 75% | 75% |   500 |   nan% |   nan% |   nan%\n",
      "  3 | 00:01:09 | 50% | 95% |   500 |   nan% |   nan% |   nan%\n",
      "  4 | 00:01:44 | 50% | 95% |   100 | -1.46% |  1.39% |  3.33%\n",
      "  5 | 00:02:18 | 95% | 75% |   250 | -2.51% |  0.16% |  0.00%\n",
      "  6 | 00:02:51 | 95% | 95% |   250 | -2.39% |  0.40% |  0.00%\n",
      "  7 | 00:03:27 | 95% | 95% |   100 | -1.25% |  1.07% |  1.67%\n",
      "  8 | 00:03:38 | 75% | 95% |   500 |   nan% |   nan% |   nan%\n",
      "Lookahead: 10 | Train:  63 | Test: 126 | Params:   9\n",
      "  0 | 00:00:33 | 50% | 75% |   100 |  1.78% |  0.09% |  1.67%\n",
      "  1 | 00:00:43 | 50% | 75% |   250 |   nan% |   nan% |   nan%\n",
      "  2 | 00:00:53 | 75% | 75% |   500 |   nan% |   nan% |   nan%\n",
      "  3 | 00:01:03 | 50% | 95% |   500 |   nan% |   nan% |   nan%\n",
      "  4 | 00:01:37 | 50% | 95% |   100 |  1.40% | -0.02% |  0.00%\n",
      "  5 | 00:02:08 | 95% | 75% |   250 |  1.81% |  0.28% |  0.00%\n",
      "  6 | 00:02:36 | 95% | 95% |   250 |  1.83% | -0.89% |  0.00%\n",
      "  7 | 00:03:09 | 95% | 95% |   100 | -1.12% |  0.61% |  1.67%\n",
      "  8 | 00:03:19 | 75% | 95% |   500 |   nan% |   nan% |   nan%\n",
      "Lookahead: 10 | Train: 756 | Test: 63 | Params:   9\n",
      "  0 | 00:00:54 | 50% | 75% |   100 | -0.42% |  0.77% |  0.00%\n",
      "  1 | 00:01:37 | 50% | 75% |   250 | -1.46% | -0.12% |  0.00%\n",
      "  2 | 00:02:19 | 75% | 75% |   500 | -1.96% |  0.30% |  0.00%\n",
      "  3 | 00:02:59 | 50% | 95% |   500 | -2.57% |  0.43% |  1.67%\n",
      "  4 | 00:03:52 | 50% | 95% |   100 | -0.13% | -0.27% |  0.00%\n",
      "  5 | 00:04:39 | 95% | 75% |   250 | -0.14% | -0.35% |  1.67%\n",
      "  6 | 00:05:28 | 95% | 95% |   250 |  0.24% | -0.27% |  1.67%\n",
      "  7 | 00:06:24 | 95% | 95% |   100 | -2.14% | -1.70% | -1.67%\n",
      "  8 | 00:07:06 | 75% | 95% |   500 | -2.47% |  0.09% |  0.00%\n",
      "Lookahead: 10 | Train: 1260 | Test: 63 | Params:   9\n",
      "  0 | 00:01:01 | 50% | 75% |   100 | -0.28% |  0.20% |  0.00%\n",
      "  1 | 00:01:53 | 50% | 75% |   250 | -0.14% | -0.43% |  0.00%\n",
      "  2 | 00:02:39 | 75% | 75% |   500 | -0.28% | -1.62% |  0.00%\n",
      "  3 | 00:03:24 | 50% | 95% |   500 | -0.91% | -0.98% | -1.67%\n",
      "  4 | 00:04:31 | 50% | 95% |   100 | -0.21% |  0.13% |  0.00%\n",
      "  5 | 00:05:27 | 95% | 75% |   250 | -0.79% | -1.13% |  0.00%\n",
      "  6 | 00:06:25 | 95% | 95% |   250 | -0.60% | -0.80% |  0.00%\n",
      "  7 | 00:07:23 | 95% | 95% |   100 | -1.16% | -1.03% |  0.00%\n",
      "  8 | 00:08:12 | 75% | 95% |   500 | -0.02% | -0.83% | -1.67%\n",
      "Lookahead: 10 | Train: 126 | Test: 63 | Params:   9\n",
      "  0 | 00:00:37 | 50% | 75% |   100 | -0.10% | -0.02% |  1.67%\n",
      "  1 | 00:01:12 | 50% | 75% |   250 | -0.36% | -0.41% | -1.67%\n",
      "  2 | 00:01:23 | 75% | 75% |   500 |   nan% |   nan% |   nan%\n",
      "  3 | 00:01:35 | 50% | 95% |   500 |   nan% |   nan% |   nan%\n",
      "  4 | 00:02:11 | 50% | 95% |   100 |  0.87% |  0.21% |  0.00%\n",
      "  5 | 00:02:46 | 95% | 75% |   250 |  1.01% | -0.99% | -0.84%\n",
      "  6 | 00:03:22 | 95% | 95% |   250 |  1.13% | -0.07% |  0.00%\n",
      "  7 | 00:03:59 | 95% | 95% |   100 | -0.53% | -0.85% | -1.67%\n",
      "  8 | 00:04:11 | 75% | 95% |   500 |   nan% |   nan% |   nan%\n",
      "Lookahead: 10 | Train:  63 | Test: 63 | Params:   9\n",
      "  0 | 00:00:35 | 50% | 75% |   100 | -2.04% |  0.92% |  1.67%\n",
      "  1 | 00:00:46 | 50% | 75% |   250 |   nan% |   nan% |   nan%\n",
      "  2 | 00:00:58 | 75% | 75% |   500 |   nan% |   nan% |   nan%\n",
      "  3 | 00:01:09 | 50% | 95% |   500 |   nan% |   nan% |   nan%\n",
      "  4 | 00:01:46 | 50% | 95% |   100 | -2.17% |  0.55% |  1.67%\n",
      "  5 | 00:02:19 | 95% | 75% |   250 | -2.65% |  0.72% |  0.94%\n",
      "  6 | 00:02:50 | 95% | 95% |   250 | -2.75% |  0.78% |  0.87%\n",
      "  7 | 00:03:26 | 95% | 95% |   100 | -1.58% | -0.24% |  1.33%\n",
      "  8 | 00:03:38 | 75% | 95% |   500 |   nan% |   nan% |   nan%\n",
      "Lookahead: 21 | Train:  63 | Test: 126 | Params:   9\n",
      "  0 | 00:00:34 | 50% | 75% |   100 | -1.09% | -0.58% |  0.00%\n",
      "  1 | 00:00:44 | 50% | 75% |   250 |   nan% |   nan% |   nan%\n",
      "  2 | 00:00:54 | 75% | 75% |   500 |   nan% |   nan% |   nan%\n",
      "  3 | 00:01:05 | 50% | 95% |   500 |   nan% |   nan% |   nan%\n",
      "  4 | 00:01:39 | 50% | 95% |   100 | -1.36% | -0.52% | -1.67%\n",
      "  5 | 00:02:10 | 95% | 75% |   250 |  0.06% | -0.89% |  0.00%\n",
      "  6 | 00:02:39 | 95% | 95% |   250 |  0.28% | -1.46% |  0.00%\n",
      "  7 | 00:03:12 | 95% | 95% |   100 | -0.90% |  0.03% |  0.00%\n",
      "  8 | 00:03:22 | 75% | 95% |   500 |   nan% |   nan% |   nan%\n",
      "Lookahead: 21 | Train: 756 | Test: 63 | Params:   9\n",
      "  0 | 00:00:52 | 50% | 75% |   100 |  0.57% |  0.64% |  1.67%\n",
      "  1 | 00:01:35 | 50% | 75% |   250 |  1.55% |  1.05% |  1.67%\n",
      "  2 | 00:02:16 | 75% | 75% |   500 |  0.49% |  0.45% |  3.33%\n",
      "  3 | 00:02:56 | 50% | 95% |   500 |  0.57% | -0.01% |  0.00%\n",
      "  4 | 00:03:50 | 50% | 95% |   100 |  0.14% |  1.83% |  3.33%\n",
      "  5 | 00:04:41 | 95% | 75% |   250 |  1.46% |  1.03% |  0.00%\n",
      "  6 | 00:05:30 | 95% | 95% |   250 |  1.46% |  1.21% |  1.67%\n",
      "  7 | 00:06:32 | 95% | 95% |   100 | -1.26% | -0.17% |  0.00%\n",
      "  8 | 00:07:15 | 75% | 95% |   500 |  0.53% |  0.04% |  1.67%\n",
      "Lookahead: 21 | Train: 1260 | Test: 63 | Params:   9\n",
      "  0 | 00:01:03 | 50% | 75% |   100 |  0.89% |  1.64% |  3.33%\n",
      "  1 | 00:01:58 | 50% | 75% |   250 |  2.69% |  1.31% |  1.67%\n",
      "  2 | 00:02:46 | 75% | 75% |   500 |  2.30% |  1.15% |  2.50%\n",
      "  3 | 00:03:31 | 50% | 95% |   500 |  2.79% |  1.18% |  3.33%\n",
      "  4 | 00:04:35 | 50% | 95% |   100 |  0.63% |  1.39% |  1.67%\n",
      "  5 | 00:05:34 | 95% | 75% |   250 |  3.24% |  1.29% |  3.33%\n",
      "  6 | 00:06:33 | 95% | 95% |   250 |  3.29% |  1.17% |  1.67%\n",
      "  7 | 00:07:36 | 95% | 95% |   100 |  1.62% |  1.45% |  3.33%\n",
      "  8 | 00:08:23 | 75% | 95% |   500 |  2.48% |  1.16% |  1.67%\n",
      "Lookahead: 21 | Train: 126 | Test: 63 | Params:   9\n",
      "  0 | 00:00:38 | 50% | 75% |   100 |  2.11% | -0.53% |  0.00%\n",
      "  1 | 00:01:13 | 50% | 75% |   250 |  1.14% | -0.79% |  0.00%\n",
      "  2 | 00:01:59 | 75% | 75% |   500 | -0.24% | -1.01% |  0.00%\n",
      "  3 | 00:02:11 | 50% | 95% |   500 |   nan% |   nan% |   nan%\n",
      "  4 | 00:02:50 | 50% | 95% |   100 |  3.15% | -0.96% |  0.00%\n",
      "  5 | 00:03:33 | 95% | 75% |   250 |  3.45% | -0.26% |  0.00%\n",
      "  6 | 00:04:10 | 95% | 95% |   250 |  3.37% |  0.21% |  0.00%\n",
      "  7 | 00:04:51 | 95% | 95% |   100 |  1.39% | -1.07% |  0.00%\n",
      "  8 | 00:05:25 | 75% | 95% |   500 | -0.45% | -1.04% |  0.00%\n",
      "Lookahead: 21 | Train:  63 | Test: 63 | Params:   9\n",
      "  0 | 00:00:36 | 50% | 75% |   100 | -0.82% | -0.53% |  0.00%\n",
      "  1 | 00:00:48 | 50% | 75% |   250 |   nan% |   nan% |   nan%\n",
      "  2 | 00:00:59 | 75% | 75% |   500 |   nan% |   nan% |   nan%\n",
      "  3 | 00:01:11 | 50% | 95% |   500 |   nan% |   nan% |   nan%\n",
      "  4 | 00:01:47 | 50% | 95% |   100 | -0.80% | -1.01% | -1.67%\n",
      "  5 | 00:02:20 | 95% | 75% |   250 | -1.86% | -1.69% | -0.99%\n",
      "  6 | 00:02:51 | 95% | 95% |   250 | -1.85% | -1.75% |  0.00%\n",
      "  7 | 00:03:29 | 95% | 95% |   100 | -2.09% | -0.59% |  0.00%\n",
      "  8 | 00:03:41 | 75% | 95% |   500 |   nan% |   nan% |   nan%\n"
     ]
    }
   ],
   "source": [
    "for lookahead in lookaheads:\n",
    "    for train_length, test_length in test_params_:\n",
    "        n_splits = int(5 * YEAR / test_length)\n",
    "        print(f'Lookahead: {lookahead:2.0f} | Train: {train_length:3.0f} | '\n",
    "              f'Test: {test_length:2.0f} | Params: {len(cv_params_):3.0f}')\n",
    "\n",
    "        cv = MultipleTimeSeriesCV(n_splits=n_splits,\n",
    "                                  test_period_length=test_length,\n",
    "                                  train_period_length=train_length,\n",
    "                                  lookahead=lookahead)\n",
    "\n",
    "        label = label_dict[lookahead]\n",
    "        outcome_data = data.loc[:, features + [label]].dropna()\n",
    "\n",
    "        lgb_data = lgb.Dataset(data=outcome_data.drop(label, axis=1),\n",
    "                               label=outcome_data[label],\n",
    "                               categorical_feature=categoricals,\n",
    "                               free_raw_data=False)\n",
    "        predictions, daily_ic, ic, feature_importance = [], [], [], []\n",
    "        key = f'{lookahead}/{train_length}/{test_length}'\n",
    "        T = 0\n",
    "        for p, (bagging_fraction, feature_fraction, min_data_in_leaf) in enumerate(cv_params_):\n",
    "            params = base_params.copy()\n",
    "            params.update(dict(bagging_fraction=bagging_fraction,\n",
    "                               feature_fraction=feature_fraction,\n",
    "                               min_data_in_leaf=min_data_in_leaf))\n",
    "\n",
    "            start = time()\n",
    "            cv_preds, nrounds = [], []\n",
    "            for i, (train_idx, test_idx) in enumerate(cv.split(X=outcome_data)):\n",
    "                lgb_train = lgb_data.subset(train_idx.tolist()).construct()\n",
    "                \n",
    "                lgb_train = lgb_data.subset(train_idx.tolist()).construct()\n",
    "                lgb_test = lgb_data.subset(test_idx.tolist()).construct()\n",
    "\n",
    "                model = lgb.train(params=params,\n",
    "                                  train_set=lgb_train,\n",
    "                                  num_boost_round=num_boost_round,\n",
    "                                  verbose_eval=False)\n",
    "                if i == 0:\n",
    "                    fi = get_fi(model).to_frame()\n",
    "                else:\n",
    "                    fi[i] = get_fi(model)\n",
    "\n",
    "                test_set = outcome_data.iloc[test_idx, :]\n",
    "                X_test = test_set.loc[:, model.feature_name()]\n",
    "                y_test = test_set.loc[:, label]\n",
    "                y_pred = {str(n): model.predict(X_test, num_iteration=n)\n",
    "                          for n in num_iterations}\n",
    "                cv_preds.append(y_test.to_frame(\n",
    "                    'y_test').assign(**y_pred).assign(i=i))\n",
    "                nrounds.append(model.best_iteration)\n",
    "            feature_importance.append(fi.T.describe().T.assign(bagging_fraction=bagging_fraction,\n",
    "                                                               feature_fraction=feature_fraction,\n",
    "                                                               min_data_in_leaf=min_data_in_leaf))\n",
    "            cv_preds = pd.concat(cv_preds).assign(bagging_fraction=bagging_fraction,\n",
    "                                                  feature_fraction=feature_fraction,\n",
    "                                                  min_data_in_leaf=min_data_in_leaf)\n",
    "\n",
    "            predictions.append(cv_preds)\n",
    "            by_day = cv_preds.groupby(level='date')\n",
    "            ic_by_day = pd.concat([by_day.apply(lambda x: spearmanr(x.y_test,\n",
    "                                                                    x[str(n)])[0]).to_frame(n)\n",
    "                                   for n in num_iterations], axis=1)\n",
    "\n",
    "            daily_ic.append(ic_by_day.assign(bagging_fraction=bagging_fraction,\n",
    "                                             feature_fraction=feature_fraction,\n",
    "                                             min_data_in_leaf=min_data_in_leaf))\n",
    "\n",
    "            cv_ic = [spearmanr(cv_preds.y_test, cv_preds[str(n)])[0]\n",
    "                  for n in num_iterations]\n",
    "\n",
    "            T += time() - start\n",
    "            ic.append([bagging_fraction, feature_fraction,\n",
    "                       min_data_in_leaf, lookahead] + cv_ic)\n",
    "\n",
    "            msg = f'{p:3.0f} | {format_time(T)} | '\n",
    "            msg += f'{bagging_fraction:3.0%} | {feature_fraction:3.0%} | {min_data_in_leaf:5,.0f} | '\n",
    "            msg += f'{max(cv_ic):6.2%} | {ic_by_day.mean().max(): 6.2%} | {ic_by_day.median().max(): 6.2%}'\n",
    "            print(msg)\n",
    "        m = pd.DataFrame(ic, columns=ic_cols)\n",
    "        m.to_hdf(cv_store, 'ic/' + key)\n",
    "        pd.concat(daily_ic).to_hdf(cv_store, 'daily_ic/' + key)\n",
    "        pd.concat(feature_importance).to_hdf(cv_store, 'fi/' + key)\n",
    "        pd.concat(predictions).to_hdf(cv_store, 'predictions/' + key)"
   ]
  },
  {
   "cell_type": "code",
   "execution_count": 67,
   "metadata": {},
   "outputs": [
    {
     "data": {
      "text/html": [
       "<div>\n",
       "<style scoped>\n",
       "    .dataframe tbody tr th:only-of-type {\n",
       "        vertical-align: middle;\n",
       "    }\n",
       "\n",
       "    .dataframe tbody tr th {\n",
       "        vertical-align: top;\n",
       "    }\n",
       "\n",
       "    .dataframe thead th {\n",
       "        text-align: right;\n",
       "    }\n",
       "</style>\n",
       "<table border=\"1\" class=\"dataframe\">\n",
       "  <thead>\n",
       "    <tr style=\"text-align: right;\">\n",
       "      <th></th>\n",
       "      <th>bagging_fraction</th>\n",
       "      <th>feature_fraction</th>\n",
       "      <th>min_data_in_leaf</th>\n",
       "      <th>t</th>\n",
       "      <th>25</th>\n",
       "      <th>50</th>\n",
       "      <th>75</th>\n",
       "      <th>100</th>\n",
       "      <th>125</th>\n",
       "      <th>150</th>\n",
       "      <th>...</th>\n",
       "      <th>275</th>\n",
       "      <th>300</th>\n",
       "      <th>325</th>\n",
       "      <th>350</th>\n",
       "      <th>375</th>\n",
       "      <th>400</th>\n",
       "      <th>425</th>\n",
       "      <th>450</th>\n",
       "      <th>475</th>\n",
       "      <th>500</th>\n",
       "    </tr>\n",
       "  </thead>\n",
       "  <tbody>\n",
       "    <tr>\n",
       "      <th>0</th>\n",
       "      <td>0.50</td>\n",
       "      <td>0.75</td>\n",
       "      <td>100</td>\n",
       "      <td>21</td>\n",
       "      <td>-0.008159</td>\n",
       "      <td>-0.009583</td>\n",
       "      <td>-0.009868</td>\n",
       "      <td>-0.012536</td>\n",
       "      <td>-0.011455</td>\n",
       "      <td>-0.011377</td>\n",
       "      <td>...</td>\n",
       "      <td>-0.011880</td>\n",
       "      <td>-0.012539</td>\n",
       "      <td>-0.011968</td>\n",
       "      <td>-0.011166</td>\n",
       "      <td>-0.010643</td>\n",
       "      <td>-0.010046</td>\n",
       "      <td>-0.009877</td>\n",
       "      <td>-0.009586</td>\n",
       "      <td>-0.010146</td>\n",
       "      <td>-0.010105</td>\n",
       "    </tr>\n",
       "    <tr>\n",
       "      <th>1</th>\n",
       "      <td>0.50</td>\n",
       "      <td>0.75</td>\n",
       "      <td>250</td>\n",
       "      <td>21</td>\n",
       "      <td>NaN</td>\n",
       "      <td>NaN</td>\n",
       "      <td>NaN</td>\n",
       "      <td>NaN</td>\n",
       "      <td>NaN</td>\n",
       "      <td>NaN</td>\n",
       "      <td>...</td>\n",
       "      <td>NaN</td>\n",
       "      <td>NaN</td>\n",
       "      <td>NaN</td>\n",
       "      <td>NaN</td>\n",
       "      <td>NaN</td>\n",
       "      <td>NaN</td>\n",
       "      <td>NaN</td>\n",
       "      <td>NaN</td>\n",
       "      <td>NaN</td>\n",
       "      <td>NaN</td>\n",
       "    </tr>\n",
       "    <tr>\n",
       "      <th>2</th>\n",
       "      <td>0.75</td>\n",
       "      <td>0.75</td>\n",
       "      <td>500</td>\n",
       "      <td>21</td>\n",
       "      <td>NaN</td>\n",
       "      <td>NaN</td>\n",
       "      <td>NaN</td>\n",
       "      <td>NaN</td>\n",
       "      <td>NaN</td>\n",
       "      <td>NaN</td>\n",
       "      <td>...</td>\n",
       "      <td>NaN</td>\n",
       "      <td>NaN</td>\n",
       "      <td>NaN</td>\n",
       "      <td>NaN</td>\n",
       "      <td>NaN</td>\n",
       "      <td>NaN</td>\n",
       "      <td>NaN</td>\n",
       "      <td>NaN</td>\n",
       "      <td>NaN</td>\n",
       "      <td>NaN</td>\n",
       "    </tr>\n",
       "    <tr>\n",
       "      <th>3</th>\n",
       "      <td>0.50</td>\n",
       "      <td>0.95</td>\n",
       "      <td>500</td>\n",
       "      <td>21</td>\n",
       "      <td>NaN</td>\n",
       "      <td>NaN</td>\n",
       "      <td>NaN</td>\n",
       "      <td>NaN</td>\n",
       "      <td>NaN</td>\n",
       "      <td>NaN</td>\n",
       "      <td>...</td>\n",
       "      <td>NaN</td>\n",
       "      <td>NaN</td>\n",
       "      <td>NaN</td>\n",
       "      <td>NaN</td>\n",
       "      <td>NaN</td>\n",
       "      <td>NaN</td>\n",
       "      <td>NaN</td>\n",
       "      <td>NaN</td>\n",
       "      <td>NaN</td>\n",
       "      <td>NaN</td>\n",
       "    </tr>\n",
       "    <tr>\n",
       "      <th>4</th>\n",
       "      <td>0.50</td>\n",
       "      <td>0.95</td>\n",
       "      <td>100</td>\n",
       "      <td>21</td>\n",
       "      <td>-0.007969</td>\n",
       "      <td>-0.009788</td>\n",
       "      <td>-0.010228</td>\n",
       "      <td>-0.011532</td>\n",
       "      <td>-0.010121</td>\n",
       "      <td>-0.010510</td>\n",
       "      <td>...</td>\n",
       "      <td>-0.012112</td>\n",
       "      <td>-0.012181</td>\n",
       "      <td>-0.011809</td>\n",
       "      <td>-0.011147</td>\n",
       "      <td>-0.010996</td>\n",
       "      <td>-0.010265</td>\n",
       "      <td>-0.010376</td>\n",
       "      <td>-0.010070</td>\n",
       "      <td>-0.010208</td>\n",
       "      <td>-0.010447</td>\n",
       "    </tr>\n",
       "    <tr>\n",
       "      <th>5</th>\n",
       "      <td>0.95</td>\n",
       "      <td>0.75</td>\n",
       "      <td>250</td>\n",
       "      <td>21</td>\n",
       "      <td>-0.018769</td>\n",
       "      <td>-0.021628</td>\n",
       "      <td>-0.020158</td>\n",
       "      <td>-0.020375</td>\n",
       "      <td>-0.019442</td>\n",
       "      <td>-0.019328</td>\n",
       "      <td>...</td>\n",
       "      <td>-0.019438</td>\n",
       "      <td>-0.019557</td>\n",
       "      <td>-0.019643</td>\n",
       "      <td>-0.019317</td>\n",
       "      <td>-0.019312</td>\n",
       "      <td>-0.019470</td>\n",
       "      <td>-0.019772</td>\n",
       "      <td>-0.019591</td>\n",
       "      <td>-0.019530</td>\n",
       "      <td>-0.019505</td>\n",
       "    </tr>\n",
       "    <tr>\n",
       "      <th>6</th>\n",
       "      <td>0.95</td>\n",
       "      <td>0.95</td>\n",
       "      <td>250</td>\n",
       "      <td>21</td>\n",
       "      <td>-0.020019</td>\n",
       "      <td>-0.021652</td>\n",
       "      <td>-0.020007</td>\n",
       "      <td>-0.019970</td>\n",
       "      <td>-0.019059</td>\n",
       "      <td>-0.018932</td>\n",
       "      <td>...</td>\n",
       "      <td>-0.018836</td>\n",
       "      <td>-0.019085</td>\n",
       "      <td>-0.019216</td>\n",
       "      <td>-0.019475</td>\n",
       "      <td>-0.019493</td>\n",
       "      <td>-0.019936</td>\n",
       "      <td>-0.019938</td>\n",
       "      <td>-0.019887</td>\n",
       "      <td>-0.019948</td>\n",
       "      <td>-0.019910</td>\n",
       "    </tr>\n",
       "    <tr>\n",
       "      <th>7</th>\n",
       "      <td>0.95</td>\n",
       "      <td>0.95</td>\n",
       "      <td>100</td>\n",
       "      <td>21</td>\n",
       "      <td>-0.021536</td>\n",
       "      <td>-0.022654</td>\n",
       "      <td>-0.021902</td>\n",
       "      <td>-0.022096</td>\n",
       "      <td>-0.021419</td>\n",
       "      <td>-0.021161</td>\n",
       "      <td>...</td>\n",
       "      <td>-0.021633</td>\n",
       "      <td>-0.022078</td>\n",
       "      <td>-0.022325</td>\n",
       "      <td>-0.022418</td>\n",
       "      <td>-0.022245</td>\n",
       "      <td>-0.022353</td>\n",
       "      <td>-0.022224</td>\n",
       "      <td>-0.022397</td>\n",
       "      <td>-0.022136</td>\n",
       "      <td>-0.022249</td>\n",
       "    </tr>\n",
       "    <tr>\n",
       "      <th>8</th>\n",
       "      <td>0.75</td>\n",
       "      <td>0.95</td>\n",
       "      <td>500</td>\n",
       "      <td>21</td>\n",
       "      <td>NaN</td>\n",
       "      <td>NaN</td>\n",
       "      <td>NaN</td>\n",
       "      <td>NaN</td>\n",
       "      <td>NaN</td>\n",
       "      <td>NaN</td>\n",
       "      <td>...</td>\n",
       "      <td>NaN</td>\n",
       "      <td>NaN</td>\n",
       "      <td>NaN</td>\n",
       "      <td>NaN</td>\n",
       "      <td>NaN</td>\n",
       "      <td>NaN</td>\n",
       "      <td>NaN</td>\n",
       "      <td>NaN</td>\n",
       "      <td>NaN</td>\n",
       "      <td>NaN</td>\n",
       "    </tr>\n",
       "  </tbody>\n",
       "</table>\n",
       "<p>9 rows × 24 columns</p>\n",
       "</div>"
      ],
      "text/plain": [
       "   bagging_fraction  feature_fraction  min_data_in_leaf   t        25  \\\n",
       "0              0.50              0.75               100  21 -0.008159   \n",
       "1              0.50              0.75               250  21       NaN   \n",
       "2              0.75              0.75               500  21       NaN   \n",
       "3              0.50              0.95               500  21       NaN   \n",
       "4              0.50              0.95               100  21 -0.007969   \n",
       "5              0.95              0.75               250  21 -0.018769   \n",
       "6              0.95              0.95               250  21 -0.020019   \n",
       "7              0.95              0.95               100  21 -0.021536   \n",
       "8              0.75              0.95               500  21       NaN   \n",
       "\n",
       "         50        75       100       125       150  ...       275       300  \\\n",
       "0 -0.009583 -0.009868 -0.012536 -0.011455 -0.011377  ... -0.011880 -0.012539   \n",
       "1       NaN       NaN       NaN       NaN       NaN  ...       NaN       NaN   \n",
       "2       NaN       NaN       NaN       NaN       NaN  ...       NaN       NaN   \n",
       "3       NaN       NaN       NaN       NaN       NaN  ...       NaN       NaN   \n",
       "4 -0.009788 -0.010228 -0.011532 -0.010121 -0.010510  ... -0.012112 -0.012181   \n",
       "5 -0.021628 -0.020158 -0.020375 -0.019442 -0.019328  ... -0.019438 -0.019557   \n",
       "6 -0.021652 -0.020007 -0.019970 -0.019059 -0.018932  ... -0.018836 -0.019085   \n",
       "7 -0.022654 -0.021902 -0.022096 -0.021419 -0.021161  ... -0.021633 -0.022078   \n",
       "8       NaN       NaN       NaN       NaN       NaN  ...       NaN       NaN   \n",
       "\n",
       "        325       350       375       400       425       450       475  \\\n",
       "0 -0.011968 -0.011166 -0.010643 -0.010046 -0.009877 -0.009586 -0.010146   \n",
       "1       NaN       NaN       NaN       NaN       NaN       NaN       NaN   \n",
       "2       NaN       NaN       NaN       NaN       NaN       NaN       NaN   \n",
       "3       NaN       NaN       NaN       NaN       NaN       NaN       NaN   \n",
       "4 -0.011809 -0.011147 -0.010996 -0.010265 -0.010376 -0.010070 -0.010208   \n",
       "5 -0.019643 -0.019317 -0.019312 -0.019470 -0.019772 -0.019591 -0.019530   \n",
       "6 -0.019216 -0.019475 -0.019493 -0.019936 -0.019938 -0.019887 -0.019948   \n",
       "7 -0.022325 -0.022418 -0.022245 -0.022353 -0.022224 -0.022397 -0.022136   \n",
       "8       NaN       NaN       NaN       NaN       NaN       NaN       NaN   \n",
       "\n",
       "        500  \n",
       "0 -0.010105  \n",
       "1       NaN  \n",
       "2       NaN  \n",
       "3       NaN  \n",
       "4 -0.010447  \n",
       "5 -0.019505  \n",
       "6 -0.019910  \n",
       "7 -0.022249  \n",
       "8       NaN  \n",
       "\n",
       "[9 rows x 24 columns]"
      ]
     },
     "execution_count": 67,
     "metadata": {},
     "output_type": "execute_result"
    }
   ],
   "source": [
    "m"
   ]
  },
  {
   "cell_type": "code",
   "execution_count": 63,
   "metadata": {},
   "outputs": [
    {
     "data": {
      "text/html": [
       "<div>\n",
       "<style scoped>\n",
       "    .dataframe tbody tr th:only-of-type {\n",
       "        vertical-align: middle;\n",
       "    }\n",
       "\n",
       "    .dataframe tbody tr th {\n",
       "        vertical-align: top;\n",
       "    }\n",
       "\n",
       "    .dataframe thead th {\n",
       "        text-align: right;\n",
       "    }\n",
       "</style>\n",
       "<table border=\"1\" class=\"dataframe\">\n",
       "  <thead>\n",
       "    <tr style=\"text-align: right;\">\n",
       "      <th></th>\n",
       "      <th>500</th>\n",
       "    </tr>\n",
       "    <tr>\n",
       "      <th>date</th>\n",
       "      <th></th>\n",
       "    </tr>\n",
       "  </thead>\n",
       "  <tbody>\n",
       "    <tr>\n",
       "      <th>2018-09-05</th>\n",
       "      <td>NaN</td>\n",
       "    </tr>\n",
       "    <tr>\n",
       "      <th>2018-09-06</th>\n",
       "      <td>NaN</td>\n",
       "    </tr>\n",
       "    <tr>\n",
       "      <th>2018-09-07</th>\n",
       "      <td>NaN</td>\n",
       "    </tr>\n",
       "    <tr>\n",
       "      <th>2018-09-10</th>\n",
       "      <td>NaN</td>\n",
       "    </tr>\n",
       "    <tr>\n",
       "      <th>2018-09-11</th>\n",
       "      <td>NaN</td>\n",
       "    </tr>\n",
       "    <tr>\n",
       "      <th>...</th>\n",
       "      <td>...</td>\n",
       "    </tr>\n",
       "    <tr>\n",
       "      <th>2022-08-30</th>\n",
       "      <td>NaN</td>\n",
       "    </tr>\n",
       "    <tr>\n",
       "      <th>2022-08-31</th>\n",
       "      <td>NaN</td>\n",
       "    </tr>\n",
       "    <tr>\n",
       "      <th>2022-09-01</th>\n",
       "      <td>NaN</td>\n",
       "    </tr>\n",
       "    <tr>\n",
       "      <th>2022-09-02</th>\n",
       "      <td>NaN</td>\n",
       "    </tr>\n",
       "    <tr>\n",
       "      <th>2022-09-06</th>\n",
       "      <td>NaN</td>\n",
       "    </tr>\n",
       "  </tbody>\n",
       "</table>\n",
       "<p>1008 rows × 1 columns</p>\n",
       "</div>"
      ],
      "text/plain": [
       "            500\n",
       "date           \n",
       "2018-09-05  NaN\n",
       "2018-09-06  NaN\n",
       "2018-09-07  NaN\n",
       "2018-09-10  NaN\n",
       "2018-09-11  NaN\n",
       "...         ...\n",
       "2022-08-30  NaN\n",
       "2022-08-31  NaN\n",
       "2022-09-01  NaN\n",
       "2022-09-02  NaN\n",
       "2022-09-06  NaN\n",
       "\n",
       "[1008 rows x 1 columns]"
      ]
     },
     "execution_count": 63,
     "metadata": {},
     "output_type": "execute_result"
    }
   ],
   "source": [
    "cv_preds.groupby(level='date').apply(lambda x: spearmanr(x.y_test,x[str(500)])[0]).to_frame(500)"
   ]
  },
  {
   "cell_type": "code",
   "execution_count": 71,
   "metadata": {},
   "outputs": [],
   "source": [
    "daily_ic_keys, prediction_keys, fi_keys = [], [], []\n",
    "for lookahead in lookaheads:\n",
    "    for train_length, test_length in test_params_:\n",
    "        key = f'{lookahead}/{train_length}/{test_length}'\n",
    "        daily_ic_keys.append('daily_ic/' + key)\n",
    "        prediction_keys.append('predictions/' + key)\n",
    "        fi_keys.append('fi/' + key)\n",
    "\n"
   ]
  },
  {
   "cell_type": "markdown",
   "metadata": {},
   "source": [
    "## Analyse Cross-Validation Results"
   ]
  },
  {
   "cell_type": "markdown",
   "metadata": {},
   "source": [
    "### Collect Data"
   ]
  },
  {
   "cell_type": "markdown",
   "metadata": {},
   "source": [
    "We'll now combine the CV results that we stored separately for each fold (to avoid loosing results in case something goes wrong along the way):"
   ]
  },
  {
   "cell_type": "code",
   "execution_count": 68,
   "metadata": {
    "ExecuteTime": {
     "end_time": "2021-02-23T21:08:11.601163Z",
     "start_time": "2021-02-23T21:08:11.598884Z"
    }
   },
   "outputs": [],
   "source": [
    "id_vars = ['train_length',\n",
    "           'test_length',\n",
    "           'bagging_fraction',\n",
    "           'feature_fraction',\n",
    "           'min_data_in_leaf',\n",
    "           't', 'date']"
   ]
  },
  {
   "cell_type": "markdown",
   "metadata": {},
   "source": [
    "We'll look at the financial performance in the notebook `alphalens_signal_quality`."
   ]
  },
  {
   "cell_type": "code",
   "execution_count": 69,
   "metadata": {},
   "outputs": [
    {
     "name": "stdout",
     "output_type": "stream",
     "text": [
      "112\n"
     ]
    }
   ],
   "source": [
    "with pd.HDFStore(cv_store) as store:\n",
    "    print(len(store.keys()))"
   ]
  },
  {
   "cell_type": "code",
   "execution_count": 72,
   "metadata": {},
   "outputs": [
    {
     "data": {
      "text/plain": [
       "['i/10/63/126', 'i/10/756/63', 'i/10/1260/63', 'i/10/126/63', 'i/10/63/63']"
      ]
     },
     "execution_count": 72,
     "metadata": {},
     "output_type": "execute_result"
    }
   ],
   "source": [
    "[k[1:] for k in fi_keys if k.startswith(f'fi/10/')]"
   ]
  },
  {
   "cell_type": "code",
   "execution_count": 73,
   "metadata": {
    "ExecuteTime": {
     "end_time": "2021-02-23T21:09:53.526684Z",
     "start_time": "2021-02-23T21:09:52.554548Z"
    },
    "scrolled": true
   },
   "outputs": [
    {
     "name": "stdout",
     "output_type": "stream",
     "text": [
      "1\n",
      "63 126\n",
      "756 63\n",
      "1260 63\n",
      "126 63\n",
      "63 63\n",
      "5\n",
      "63 126\n",
      "756 63\n",
      "1260 63\n",
      "126 63\n",
      "63 63\n",
      "10\n",
      "63 126\n",
      "756 63\n",
      "1260 63\n",
      "126 63\n",
      "63 63\n",
      "21\n",
      "63 126\n",
      "756 63\n",
      "1260 63\n",
      "126 63\n",
      "63 63\n"
     ]
    }
   ],
   "source": [
    "daily_ic, ic = [], []\n",
    "for t in lookaheads:\n",
    "    print(t)\n",
    "    with pd.HDFStore(cv_store) as store:\n",
    "#         keys = [k[1:] for k in store.keys() if k.startswith(f'/fi/{t}')]\n",
    "        keys = [k[1:] for k in fi_keys if k.startswith(f'fi/{t}/')]\n",
    "    \n",
    "        for key in keys:\n",
    "            train_length, test_length = key.split('/')[2:]\n",
    "            print(train_length, test_length)\n",
    "            k = f'{t}/{train_length}/{test_length}'\n",
    "            cols = {'t': t,\n",
    "                    'train_length': int(train_length),\n",
    "                    'test_length': int(test_length)}\n",
    "\n",
    "            ic.append(pd.melt(store['ic/' + k]\n",
    "                              .assign(**cols),\n",
    "                              id_vars=id_vars[:-1],\n",
    "                              value_name='ic',\n",
    "                              var_name='rounds')\n",
    "                      .apply(pd.to_numeric))\n",
    "\n",
    "            df = store['daily_ic/' + k].assign(**cols).reset_index()\n",
    "            daily_ic.append(pd.melt(df,\n",
    "                                    id_vars=id_vars,\n",
    "                                    value_name='daily_ic',\n",
    "                                    var_name='rounds')\n",
    "                            .set_index('date')\n",
    "                            .apply(pd.to_numeric)\n",
    "                            .reset_index())            \n",
    "ic = pd.concat(ic, ignore_index=True)\n",
    "daily_ic = pd.concat(daily_ic, ignore_index=True)"
   ]
  },
  {
   "cell_type": "markdown",
   "metadata": {},
   "source": [
    "### Predictive Performance: CV Information Coefficient by Day"
   ]
  },
  {
   "cell_type": "markdown",
   "metadata": {},
   "source": [
    "We first look at the daily IC, the metric we ultimately care about for a daily trading strategy. The best results for all prediction horizons are typically achieved with three years of training; the shorter horizons work better with 21 day testing period length. More regularization often improves the result but the impact of the bagging and feature fraction parameters are a little less clear cut and likely depend on other parameters."
   ]
  },
  {
   "cell_type": "code",
   "execution_count": 231,
   "metadata": {},
   "outputs": [
    {
     "data": {
      "text/plain": [
       "7200"
      ]
     },
     "execution_count": 231,
     "metadata": {},
     "output_type": "execute_result"
    }
   ],
   "source": [
    "9*40*20"
   ]
  },
  {
   "cell_type": "code",
   "execution_count": 258,
   "metadata": {},
   "outputs": [
    {
     "data": {
      "text/plain": [
       "14400"
      ]
     },
     "execution_count": 258,
     "metadata": {},
     "output_type": "execute_result"
    }
   ],
   "source": [
    "5*2*3*2*3*4*20"
   ]
  },
  {
   "cell_type": "code",
   "execution_count": 74,
   "metadata": {},
   "outputs": [
    {
     "data": {
      "text/html": [
       "<div>\n",
       "<style scoped>\n",
       "    .dataframe tbody tr th:only-of-type {\n",
       "        vertical-align: middle;\n",
       "    }\n",
       "\n",
       "    .dataframe tbody tr th {\n",
       "        vertical-align: top;\n",
       "    }\n",
       "\n",
       "    .dataframe thead th {\n",
       "        text-align: right;\n",
       "    }\n",
       "</style>\n",
       "<table border=\"1\" class=\"dataframe\">\n",
       "  <thead>\n",
       "    <tr style=\"text-align: right;\">\n",
       "      <th></th>\n",
       "      <th>train_length</th>\n",
       "      <th>test_length</th>\n",
       "      <th>bagging_fraction</th>\n",
       "      <th>feature_fraction</th>\n",
       "      <th>min_data_in_leaf</th>\n",
       "      <th>t</th>\n",
       "      <th>rounds</th>\n",
       "      <th>ic</th>\n",
       "    </tr>\n",
       "  </thead>\n",
       "  <tbody>\n",
       "    <tr>\n",
       "      <th>0</th>\n",
       "      <td>63</td>\n",
       "      <td>126</td>\n",
       "      <td>0.50</td>\n",
       "      <td>0.75</td>\n",
       "      <td>100</td>\n",
       "      <td>1</td>\n",
       "      <td>25</td>\n",
       "      <td>-0.002676</td>\n",
       "    </tr>\n",
       "    <tr>\n",
       "      <th>1</th>\n",
       "      <td>63</td>\n",
       "      <td>126</td>\n",
       "      <td>0.50</td>\n",
       "      <td>0.75</td>\n",
       "      <td>250</td>\n",
       "      <td>1</td>\n",
       "      <td>25</td>\n",
       "      <td>NaN</td>\n",
       "    </tr>\n",
       "    <tr>\n",
       "      <th>2</th>\n",
       "      <td>63</td>\n",
       "      <td>126</td>\n",
       "      <td>0.75</td>\n",
       "      <td>0.75</td>\n",
       "      <td>500</td>\n",
       "      <td>1</td>\n",
       "      <td>25</td>\n",
       "      <td>NaN</td>\n",
       "    </tr>\n",
       "    <tr>\n",
       "      <th>3</th>\n",
       "      <td>63</td>\n",
       "      <td>126</td>\n",
       "      <td>0.50</td>\n",
       "      <td>0.95</td>\n",
       "      <td>500</td>\n",
       "      <td>1</td>\n",
       "      <td>25</td>\n",
       "      <td>NaN</td>\n",
       "    </tr>\n",
       "    <tr>\n",
       "      <th>4</th>\n",
       "      <td>63</td>\n",
       "      <td>126</td>\n",
       "      <td>0.50</td>\n",
       "      <td>0.95</td>\n",
       "      <td>100</td>\n",
       "      <td>1</td>\n",
       "      <td>25</td>\n",
       "      <td>-0.002855</td>\n",
       "    </tr>\n",
       "    <tr>\n",
       "      <th>...</th>\n",
       "      <td>...</td>\n",
       "      <td>...</td>\n",
       "      <td>...</td>\n",
       "      <td>...</td>\n",
       "      <td>...</td>\n",
       "      <td>...</td>\n",
       "      <td>...</td>\n",
       "      <td>...</td>\n",
       "    </tr>\n",
       "    <tr>\n",
       "      <th>3595</th>\n",
       "      <td>63</td>\n",
       "      <td>63</td>\n",
       "      <td>0.50</td>\n",
       "      <td>0.95</td>\n",
       "      <td>100</td>\n",
       "      <td>21</td>\n",
       "      <td>500</td>\n",
       "      <td>-0.010447</td>\n",
       "    </tr>\n",
       "    <tr>\n",
       "      <th>3596</th>\n",
       "      <td>63</td>\n",
       "      <td>63</td>\n",
       "      <td>0.95</td>\n",
       "      <td>0.75</td>\n",
       "      <td>250</td>\n",
       "      <td>21</td>\n",
       "      <td>500</td>\n",
       "      <td>-0.019505</td>\n",
       "    </tr>\n",
       "    <tr>\n",
       "      <th>3597</th>\n",
       "      <td>63</td>\n",
       "      <td>63</td>\n",
       "      <td>0.95</td>\n",
       "      <td>0.95</td>\n",
       "      <td>250</td>\n",
       "      <td>21</td>\n",
       "      <td>500</td>\n",
       "      <td>-0.019910</td>\n",
       "    </tr>\n",
       "    <tr>\n",
       "      <th>3598</th>\n",
       "      <td>63</td>\n",
       "      <td>63</td>\n",
       "      <td>0.95</td>\n",
       "      <td>0.95</td>\n",
       "      <td>100</td>\n",
       "      <td>21</td>\n",
       "      <td>500</td>\n",
       "      <td>-0.022249</td>\n",
       "    </tr>\n",
       "    <tr>\n",
       "      <th>3599</th>\n",
       "      <td>63</td>\n",
       "      <td>63</td>\n",
       "      <td>0.75</td>\n",
       "      <td>0.95</td>\n",
       "      <td>500</td>\n",
       "      <td>21</td>\n",
       "      <td>500</td>\n",
       "      <td>NaN</td>\n",
       "    </tr>\n",
       "  </tbody>\n",
       "</table>\n",
       "<p>3600 rows × 8 columns</p>\n",
       "</div>"
      ],
      "text/plain": [
       "      train_length  test_length  bagging_fraction  feature_fraction  \\\n",
       "0               63          126              0.50              0.75   \n",
       "1               63          126              0.50              0.75   \n",
       "2               63          126              0.75              0.75   \n",
       "3               63          126              0.50              0.95   \n",
       "4               63          126              0.50              0.95   \n",
       "...            ...          ...               ...               ...   \n",
       "3595            63           63              0.50              0.95   \n",
       "3596            63           63              0.95              0.75   \n",
       "3597            63           63              0.95              0.95   \n",
       "3598            63           63              0.95              0.95   \n",
       "3599            63           63              0.75              0.95   \n",
       "\n",
       "      min_data_in_leaf   t  rounds        ic  \n",
       "0                  100   1      25 -0.002676  \n",
       "1                  250   1      25       NaN  \n",
       "2                  500   1      25       NaN  \n",
       "3                  500   1      25       NaN  \n",
       "4                  100   1      25 -0.002855  \n",
       "...                ...  ..     ...       ...  \n",
       "3595               100  21     500 -0.010447  \n",
       "3596               250  21     500 -0.019505  \n",
       "3597               250  21     500 -0.019910  \n",
       "3598               100  21     500 -0.022249  \n",
       "3599               500  21     500       NaN  \n",
       "\n",
       "[3600 rows x 8 columns]"
      ]
     },
     "execution_count": 74,
     "metadata": {},
     "output_type": "execute_result"
    }
   ],
   "source": [
    "ic"
   ]
  },
  {
   "cell_type": "code",
   "execution_count": 75,
   "metadata": {
    "ExecuteTime": {
     "end_time": "2021-02-23T21:09:56.260286Z",
     "start_time": "2021-02-23T21:09:56.033651Z"
    }
   },
   "outputs": [
    {
     "data": {
      "text/html": [
       "<div>\n",
       "<style scoped>\n",
       "    .dataframe tbody tr th:only-of-type {\n",
       "        vertical-align: middle;\n",
       "    }\n",
       "\n",
       "    .dataframe tbody tr th {\n",
       "        vertical-align: top;\n",
       "    }\n",
       "\n",
       "    .dataframe thead th {\n",
       "        text-align: right;\n",
       "    }\n",
       "</style>\n",
       "<table border=\"1\" class=\"dataframe\">\n",
       "  <thead>\n",
       "    <tr style=\"text-align: right;\">\n",
       "      <th></th>\n",
       "      <th>t</th>\n",
       "      <th>train_length</th>\n",
       "      <th>test_length</th>\n",
       "      <th>bagging_fraction</th>\n",
       "      <th>feature_fraction</th>\n",
       "      <th>min_data_in_leaf</th>\n",
       "      <th>rounds</th>\n",
       "      <th>ic</th>\n",
       "    </tr>\n",
       "  </thead>\n",
       "  <tbody>\n",
       "    <tr>\n",
       "      <th>182</th>\n",
       "      <td>1</td>\n",
       "      <td>63</td>\n",
       "      <td>126</td>\n",
       "      <td>0.50</td>\n",
       "      <td>0.75</td>\n",
       "      <td>100</td>\n",
       "      <td>75</td>\n",
       "      <td>0.034781</td>\n",
       "    </tr>\n",
       "    <tr>\n",
       "      <th>222</th>\n",
       "      <td>1</td>\n",
       "      <td>63</td>\n",
       "      <td>126</td>\n",
       "      <td>0.50</td>\n",
       "      <td>0.95</td>\n",
       "      <td>100</td>\n",
       "      <td>75</td>\n",
       "      <td>0.032099</td>\n",
       "    </tr>\n",
       "    <tr>\n",
       "      <th>223</th>\n",
       "      <td>1</td>\n",
       "      <td>63</td>\n",
       "      <td>126</td>\n",
       "      <td>0.50</td>\n",
       "      <td>0.95</td>\n",
       "      <td>100</td>\n",
       "      <td>100</td>\n",
       "      <td>0.030874</td>\n",
       "    </tr>\n",
       "    <tr>\n",
       "      <th>1428</th>\n",
       "      <td>5</td>\n",
       "      <td>126</td>\n",
       "      <td>63</td>\n",
       "      <td>0.95</td>\n",
       "      <td>0.95</td>\n",
       "      <td>250</td>\n",
       "      <td>225</td>\n",
       "      <td>0.017864</td>\n",
       "    </tr>\n",
       "    <tr>\n",
       "      <th>1427</th>\n",
       "      <td>5</td>\n",
       "      <td>126</td>\n",
       "      <td>63</td>\n",
       "      <td>0.95</td>\n",
       "      <td>0.95</td>\n",
       "      <td>250</td>\n",
       "      <td>200</td>\n",
       "      <td>0.016945</td>\n",
       "    </tr>\n",
       "    <tr>\n",
       "      <th>1424</th>\n",
       "      <td>5</td>\n",
       "      <td>126</td>\n",
       "      <td>63</td>\n",
       "      <td>0.95</td>\n",
       "      <td>0.95</td>\n",
       "      <td>250</td>\n",
       "      <td>125</td>\n",
       "      <td>0.016883</td>\n",
       "    </tr>\n",
       "    <tr>\n",
       "      <th>1800</th>\n",
       "      <td>10</td>\n",
       "      <td>63</td>\n",
       "      <td>63</td>\n",
       "      <td>0.50</td>\n",
       "      <td>0.75</td>\n",
       "      <td>100</td>\n",
       "      <td>25</td>\n",
       "      <td>0.009242</td>\n",
       "    </tr>\n",
       "    <tr>\n",
       "      <th>1960</th>\n",
       "      <td>10</td>\n",
       "      <td>63</td>\n",
       "      <td>63</td>\n",
       "      <td>0.95</td>\n",
       "      <td>0.95</td>\n",
       "      <td>250</td>\n",
       "      <td>25</td>\n",
       "      <td>0.007801</td>\n",
       "    </tr>\n",
       "    <tr>\n",
       "      <th>2341</th>\n",
       "      <td>10</td>\n",
       "      <td>756</td>\n",
       "      <td>63</td>\n",
       "      <td>0.50</td>\n",
       "      <td>0.75</td>\n",
       "      <td>100</td>\n",
       "      <td>50</td>\n",
       "      <td>0.007674</td>\n",
       "    </tr>\n",
       "    <tr>\n",
       "      <th>3281</th>\n",
       "      <td>21</td>\n",
       "      <td>756</td>\n",
       "      <td>63</td>\n",
       "      <td>0.50</td>\n",
       "      <td>0.95</td>\n",
       "      <td>100</td>\n",
       "      <td>50</td>\n",
       "      <td>0.018283</td>\n",
       "    </tr>\n",
       "    <tr>\n",
       "      <th>3433</th>\n",
       "      <td>21</td>\n",
       "      <td>1260</td>\n",
       "      <td>63</td>\n",
       "      <td>0.50</td>\n",
       "      <td>0.75</td>\n",
       "      <td>100</td>\n",
       "      <td>350</td>\n",
       "      <td>0.016357</td>\n",
       "    </tr>\n",
       "    <tr>\n",
       "      <th>3434</th>\n",
       "      <td>21</td>\n",
       "      <td>1260</td>\n",
       "      <td>63</td>\n",
       "      <td>0.50</td>\n",
       "      <td>0.75</td>\n",
       "      <td>100</td>\n",
       "      <td>375</td>\n",
       "      <td>0.015884</td>\n",
       "    </tr>\n",
       "  </tbody>\n",
       "</table>\n",
       "</div>"
      ],
      "text/plain": [
       "       t  train_length  test_length  bagging_fraction  feature_fraction  \\\n",
       "182    1            63          126              0.50              0.75   \n",
       "222    1            63          126              0.50              0.95   \n",
       "223    1            63          126              0.50              0.95   \n",
       "1428   5           126           63              0.95              0.95   \n",
       "1427   5           126           63              0.95              0.95   \n",
       "1424   5           126           63              0.95              0.95   \n",
       "1800  10            63           63              0.50              0.75   \n",
       "1960  10            63           63              0.95              0.95   \n",
       "2341  10           756           63              0.50              0.75   \n",
       "3281  21           756           63              0.50              0.95   \n",
       "3433  21          1260           63              0.50              0.75   \n",
       "3434  21          1260           63              0.50              0.75   \n",
       "\n",
       "      min_data_in_leaf  rounds        ic  \n",
       "182                100      75  0.034781  \n",
       "222                100      75  0.032099  \n",
       "223                100     100  0.030874  \n",
       "1428               250     225  0.017864  \n",
       "1427               250     200  0.016945  \n",
       "1424               250     125  0.016883  \n",
       "1800               100      25  0.009242  \n",
       "1960               250      25  0.007801  \n",
       "2341               100      50  0.007674  \n",
       "3281               100      50  0.018283  \n",
       "3433               100     350  0.016357  \n",
       "3434               100     375  0.015884  "
      ]
     },
     "execution_count": 75,
     "metadata": {},
     "output_type": "execute_result"
    }
   ],
   "source": [
    "group_cols = ['t','train_length', 'test_length', \n",
    "              'bagging_fraction', 'feature_fraction', 'min_data_in_leaf']\n",
    "daily_ic_avg = daily_ic.groupby(group_cols + ['rounds']).daily_ic.mean().to_frame('ic').reset_index()\n",
    "daily_ic_avg.groupby('t', group_keys=False).apply(lambda x: x.nlargest(3, 'ic'))"
   ]
  },
  {
   "cell_type": "code",
   "execution_count": 76,
   "metadata": {},
   "outputs": [
    {
     "data": {
      "text/plain": [
       "100    1200\n",
       "250    1200\n",
       "500    1200\n",
       "Name: min_data_in_leaf, dtype: int64"
      ]
     },
     "execution_count": 76,
     "metadata": {},
     "output_type": "execute_result"
    }
   ],
   "source": [
    "daily_ic_avg['min_data_in_leaf'].value_counts()"
   ]
  },
  {
   "cell_type": "code",
   "execution_count": 77,
   "metadata": {
    "ExecuteTime": {
     "end_time": "2021-02-23T21:09:57.084490Z",
     "start_time": "2021-02-23T21:09:57.076867Z"
    }
   },
   "outputs": [
    {
     "name": "stdout",
     "output_type": "stream",
     "text": [
      "<class 'pandas.core.frame.DataFrame'>\n",
      "RangeIndex: 3600 entries, 0 to 3599\n",
      "Data columns (total 8 columns):\n",
      " #   Column            Non-Null Count  Dtype  \n",
      "---  ------            --------------  -----  \n",
      " 0   t                 3600 non-null   int64  \n",
      " 1   train_length      3600 non-null   int64  \n",
      " 2   test_length       3600 non-null   int64  \n",
      " 3   bagging_fraction  3600 non-null   float64\n",
      " 4   feature_fraction  3600 non-null   float64\n",
      " 5   min_data_in_leaf  3600 non-null   int64  \n",
      " 6   rounds            3600 non-null   int64  \n",
      " 7   ic                2760 non-null   float64\n",
      "dtypes: float64(3), int64(5)\n",
      "memory usage: 225.1 KB\n"
     ]
    }
   ],
   "source": [
    "daily_ic_avg.info(null_counts=True)"
   ]
  },
  {
   "cell_type": "markdown",
   "metadata": {},
   "source": [
    "For a 1-day forecast horizon, over 75% of the predictions yield a positive daily IC; the same is true for 21 days which, unsurprisingly, also shows a wider range."
   ]
  },
  {
   "cell_type": "code",
   "execution_count": 78,
   "metadata": {
    "ExecuteTime": {
     "end_time": "2021-02-23T21:09:59.239313Z",
     "start_time": "2021-02-23T21:09:59.116945Z"
    }
   },
   "outputs": [
    {
     "data": {
      "image/png": "[encoded data removed]",
      "text/plain": [
       "<Figure size 432x288 with 1 Axes>"
      ]
     },
     "metadata": {},
     "output_type": "display_data"
    }
   ],
   "source": [
    "ax = sns.boxenplot(x='t', y='ic', data=daily_ic_avg)\n",
    "ax.axhline(0, ls='--', lw=1, c='k');"
   ]
  },
  {
   "cell_type": "code",
   "execution_count": 80,
   "metadata": {
    "ExecuteTime": {
     "end_time": "2021-02-23T21:10:00.267110Z",
     "start_time": "2021-02-23T21:09:59.282710Z"
    }
   },
   "outputs": [
    {
     "data": {
      "image/png": "[encoded data removed]",
      "text/plain": [
       "<Figure size 1440x720 with 8 Axes>"
      ]
     },
     "metadata": {},
     "output_type": "display_data"
    }
   ],
   "source": [
    "g = sns.catplot(x='t',\n",
    "                y='ic',\n",
    "                col='train_length',\n",
    "                row='test_length',\n",
    "                data=daily_ic_avg,\n",
    "                # data=daily_ic_avg[(daily_ic_avg.test_length == 126)],\n",
    "                kind='boxen')\n",
    "g.savefig(results_path / 'daily_ic_test_126', dpi=300)"
   ]
  },
  {
   "cell_type": "markdown",
   "metadata": {},
   "source": [
    "### HyperParameter Impact: Linear Regression"
   ]
  },
  {
   "cell_type": "markdown",
   "metadata": {},
   "source": [
    "To get a better idea of how the various CV parameters impact the forecast quality, we can run a linear regression with the daily IC as outcome and the one-hot encoded hyperparameters as inputs:"
   ]
  },
  {
   "cell_type": "code",
   "execution_count": 81,
   "metadata": {
    "ExecuteTime": {
     "end_time": "2021-02-23T21:10:03.122098Z",
     "start_time": "2021-02-23T21:10:03.056750Z"
    }
   },
   "outputs": [],
   "source": [
    "lin_reg = {}\n",
    "for t in [1, 21]:\n",
    "    df_ = daily_ic_avg[(daily_ic_avg.t==t)&(daily_ic_avg.rounds<=250)].dropna()\n",
    "    y, X = df_.ic, df_.drop(['ic', 't'], axis=1)\n",
    "    X = sm.add_constant(pd.get_dummies(X, columns=X.columns, drop_first=True))\n",
    "    model = sm.OLS(endog=y, exog=X)\n",
    "    lin_reg[t] = model.fit()\n",
    "    s = lin_reg[t].summary()\n",
    "    coefs = pd.read_csv(StringIO(s.tables[1].as_csv())).rename(\n",
    "        columns=lambda x: x.strip())\n",
    "    coefs.columns = ['variable', 'coef', 'std_err',\n",
    "                     't', 'p_value', 'ci_low', 'ci_high']\n",
    "    coefs.to_csv(results_path / f'lr_result_{t:02}.csv', index=False)"
   ]
  },
  {
   "cell_type": "code",
   "execution_count": 82,
   "metadata": {
    "ExecuteTime": {
     "end_time": "2021-02-23T21:10:03.695084Z",
     "start_time": "2021-02-23T21:10:03.686275Z"
    }
   },
   "outputs": [],
   "source": [
    "def visualize_lr_result(model, ax):\n",
    "    ci = model.conf_int()\n",
    "    errors = ci[1].sub(ci[0]).div(2)\n",
    "\n",
    "    coefs = (model.params.to_frame('coef').assign(error=errors)\n",
    "             .reset_index().rename(columns={'index': 'variable'}))\n",
    "    coefs = coefs[~coefs['variable'].str.startswith(\n",
    "        'date') & (coefs.variable != 'const')]\n",
    "    coefs.variable = coefs.variable.str.split('_').str[-1]\n",
    "\n",
    "    coefs.plot(x='variable', y='coef', kind='bar', ax=ax, \n",
    "               color='none', capsize=3, yerr='error', legend=False, rot=0)    \n",
    "    ax.set_ylabel('IC')\n",
    "    ax.set_xlabel('')\n",
    "    ax.scatter(x=pd.np.arange(len(coefs)), marker='_', s=120, y=coefs['coef'], color='black')\n",
    "    ax.axhline(y=0, linestyle='--', color='black', linewidth=1)\n",
    "    ax.xaxis.set_ticks_position('none')\n",
    "\n",
    "    ax.annotate('Train\\nLength', xy=(.09, -0.1), xytext=(.09, -0.2),\n",
    "                xycoords='axes fraction',\n",
    "                textcoords='axes fraction',\n",
    "                fontsize=11, ha='center', va='bottom',\n",
    "                bbox=dict(boxstyle='square', fc='white', ec='black'),\n",
    "                arrowprops=dict(arrowstyle='-[, widthB=5, lengthB=0.8', lw=1.0, color='black'))\n",
    "\n",
    "    ax.annotate('Test\\nLength', xy=(.23, -0.1), xytext=(.23, -0.2),\n",
    "                xycoords='axes fraction',\n",
    "                textcoords='axes fraction',\n",
    "                fontsize=11, ha='center', va='bottom',\n",
    "                bbox=dict(boxstyle='square', fc='white', ec='black'),\n",
    "                arrowprops=dict(arrowstyle='-[, widthB=2, lengthB=0.8', lw=1.0, color='black'))\n",
    "\n",
    "    ax.annotate('Bagging\\nFraction', xy=(.32, -0.1), xytext=(.32, -0.2),\n",
    "                xycoords='axes fraction',\n",
    "                textcoords='axes fraction',\n",
    "                fontsize=11, ha='center', va='bottom',\n",
    "                bbox=dict(boxstyle='square', fc='white', ec='black'),\n",
    "                arrowprops=dict(arrowstyle='-[, widthB=2.7, lengthB=0.8', lw=1.0, color='black'))\n",
    "\n",
    "\n",
    "    ax.annotate('Feature\\nFraction', xy=(.44, -0.1), xytext=(.44, -0.2),\n",
    "                xycoords='axes fraction',\n",
    "                textcoords='axes fraction',\n",
    "                fontsize=11, ha='center', va='bottom',\n",
    "                bbox=dict(boxstyle='square', fc='white', ec='black'),\n",
    "                arrowprops=dict(arrowstyle='-[, widthB=3.4, lengthB=1.0', lw=1.0, color='black'))\n",
    "    \n",
    "\n",
    "    ax.annotate('Min.\\nSamples', xy=(.55, -0.1), xytext=(.55, -0.2),\n",
    "                xycoords='axes fraction',\n",
    "                textcoords='axes fraction',\n",
    "                fontsize=11, ha='center', va='bottom',\n",
    "                bbox=dict(boxstyle='square', fc='white', ec='black'),\n",
    "                arrowprops=dict(arrowstyle='-[, widthB=2.5, lengthB=1.0', lw=1.0, color='black'))    \n",
    "    \n",
    "    ax.annotate('Number of\\nRounds', xy=(.8, -0.1), xytext=(.8, -0.2),\n",
    "                xycoords='axes fraction',\n",
    "                textcoords='axes fraction',\n",
    "                fontsize=11, ha='center', va='bottom',\n",
    "                bbox=dict(boxstyle='square', fc='white', ec='black'),\n",
    "                arrowprops=dict(arrowstyle='-[, widthB=11.2, lengthB=1.0', lw=1.0, color='black'))"
   ]
  },
  {
   "cell_type": "markdown",
   "metadata": {},
   "source": [
    "The below plot shows the regression coefficient values and their confidence intervals. The intercept (not shown) has a small positive value and is statistically signifant; it captures the impact of the dropped categories (the smallest value for each parameter).\n",
    "\n",
    "For 1-day forecasts, some but not all results are insightful: 21-day testing is better, and so is `min_samples_leaf` of 500 or 1,000. 100-200 trees seem to work best, but both shorter and longer training periods are better than intermediate values."
   ]
  },
  {
   "cell_type": "code",
   "execution_count": 89,
   "metadata": {
    "ExecuteTime": {
     "end_time": "2021-02-23T21:10:06.305149Z",
     "start_time": "2021-02-23T21:10:05.696990Z"
    }
   },
   "outputs": [
    {
     "data": {
      "image/png": "[encoded data removed]",
      "text/plain": [
       "<Figure size 1440x432 with 2 Axes>"
      ]
     },
     "metadata": {},
     "output_type": "display_data"
    }
   ],
   "source": [
    "with sns.axes_style('white'):\n",
    "    fig, axes = plt.subplots(nrows=1, ncols=2, figsize=(20, 6))\n",
    "    axes = axes.flatten()\n",
    "    for i, t in enumerate([1, 21]):\n",
    "        visualize_lr_result(lin_reg[t], axes[i])\n",
    "        axes[i].set_title(f'Lookahead: {t} Day(s)')\n",
    "    fig.suptitle('OLS Coefficients & Confidence Intervals', fontsize=20)\n",
    "    fig.tight_layout()\n",
    "    fig.subplots_adjust(top=.92)"
   ]
  },
  {
   "cell_type": "markdown",
   "metadata": {},
   "source": [
    "### Information Coefficient: Overall"
   ]
  },
  {
   "cell_type": "markdown",
   "metadata": {},
   "source": [
    "We'll also take a look at the overall IC value, which is often reported but does not necessarily match the goal of a daily trading strategy that uses the model return predictions as well as the daily IC."
   ]
  },
  {
   "cell_type": "code",
   "execution_count": 90,
   "metadata": {
    "ExecuteTime": {
     "end_time": "2021-02-23T21:10:24.159865Z",
     "start_time": "2021-02-23T21:10:24.148886Z"
    }
   },
   "outputs": [
    {
     "name": "stdout",
     "output_type": "stream",
     "text": [
      "<class 'pandas.core.frame.DataFrame'>\n",
      "RangeIndex: 3600 entries, 0 to 3599\n",
      "Data columns (total 8 columns):\n",
      " #   Column            Non-Null Count  Dtype  \n",
      "---  ------            --------------  -----  \n",
      " 0   train_length      3600 non-null   int64  \n",
      " 1   test_length       3600 non-null   int64  \n",
      " 2   bagging_fraction  3600 non-null   float64\n",
      " 3   feature_fraction  3600 non-null   float64\n",
      " 4   min_data_in_leaf  3600 non-null   int64  \n",
      " 5   t                 3600 non-null   int64  \n",
      " 6   rounds            3600 non-null   int64  \n",
      " 7   ic                2880 non-null   float64\n",
      "dtypes: float64(3), int64(5)\n",
      "memory usage: 225.1 KB\n"
     ]
    }
   ],
   "source": [
    "ic.info()"
   ]
  },
  {
   "cell_type": "markdown",
   "metadata": {},
   "source": [
    "#### Best Parameters"
   ]
  },
  {
   "cell_type": "markdown",
   "metadata": {},
   "source": [
    "Directionally, and for shorter periods, similar hyperparameter settings work best (while the IC values are higher):"
   ]
  },
  {
   "cell_type": "code",
   "execution_count": 83,
   "metadata": {
    "ExecuteTime": {
     "end_time": "2021-02-23T21:10:26.999923Z",
     "start_time": "2021-02-23T21:10:26.983402Z"
    }
   },
   "outputs": [
    {
     "data": {
      "text/html": [
       "<div>\n",
       "<style scoped>\n",
       "    .dataframe tbody tr th:only-of-type {\n",
       "        vertical-align: middle;\n",
       "    }\n",
       "\n",
       "    .dataframe tbody tr th {\n",
       "        vertical-align: top;\n",
       "    }\n",
       "\n",
       "    .dataframe thead th {\n",
       "        text-align: right;\n",
       "    }\n",
       "</style>\n",
       "<table border=\"1\" class=\"dataframe\">\n",
       "  <thead>\n",
       "    <tr style=\"text-align: right;\">\n",
       "      <th></th>\n",
       "      <th></th>\n",
       "      <th>train_length</th>\n",
       "      <th>test_length</th>\n",
       "      <th>bagging_fraction</th>\n",
       "      <th>feature_fraction</th>\n",
       "      <th>min_data_in_leaf</th>\n",
       "      <th>t</th>\n",
       "      <th>rounds</th>\n",
       "      <th>ic</th>\n",
       "    </tr>\n",
       "    <tr>\n",
       "      <th>t</th>\n",
       "      <th></th>\n",
       "      <th></th>\n",
       "      <th></th>\n",
       "      <th></th>\n",
       "      <th></th>\n",
       "      <th></th>\n",
       "      <th></th>\n",
       "      <th></th>\n",
       "      <th></th>\n",
       "    </tr>\n",
       "  </thead>\n",
       "  <tbody>\n",
       "    <tr>\n",
       "      <th rowspan=\"3\" valign=\"top\">1</th>\n",
       "      <th>395</th>\n",
       "      <td>1260</td>\n",
       "      <td>63</td>\n",
       "      <td>0.75</td>\n",
       "      <td>0.95</td>\n",
       "      <td>500</td>\n",
       "      <td>1</td>\n",
       "      <td>100</td>\n",
       "      <td>0.035044</td>\n",
       "    </tr>\n",
       "    <tr>\n",
       "      <th>362</th>\n",
       "      <td>1260</td>\n",
       "      <td>63</td>\n",
       "      <td>0.75</td>\n",
       "      <td>0.75</td>\n",
       "      <td>500</td>\n",
       "      <td>1</td>\n",
       "      <td>25</td>\n",
       "      <td>0.034750</td>\n",
       "    </tr>\n",
       "    <tr>\n",
       "      <th>368</th>\n",
       "      <td>1260</td>\n",
       "      <td>63</td>\n",
       "      <td>0.75</td>\n",
       "      <td>0.95</td>\n",
       "      <td>500</td>\n",
       "      <td>1</td>\n",
       "      <td>25</td>\n",
       "      <td>0.034583</td>\n",
       "    </tr>\n",
       "    <tr>\n",
       "      <th rowspan=\"3\" valign=\"top\">5</th>\n",
       "      <th>1277</th>\n",
       "      <td>1260</td>\n",
       "      <td>63</td>\n",
       "      <td>0.75</td>\n",
       "      <td>0.95</td>\n",
       "      <td>500</td>\n",
       "      <td>5</td>\n",
       "      <td>50</td>\n",
       "      <td>0.026968</td>\n",
       "    </tr>\n",
       "    <tr>\n",
       "      <th>1271</th>\n",
       "      <td>1260</td>\n",
       "      <td>63</td>\n",
       "      <td>0.75</td>\n",
       "      <td>0.75</td>\n",
       "      <td>500</td>\n",
       "      <td>5</td>\n",
       "      <td>50</td>\n",
       "      <td>0.025840</td>\n",
       "    </tr>\n",
       "    <tr>\n",
       "      <th>1295</th>\n",
       "      <td>1260</td>\n",
       "      <td>63</td>\n",
       "      <td>0.75</td>\n",
       "      <td>0.95</td>\n",
       "      <td>500</td>\n",
       "      <td>5</td>\n",
       "      <td>100</td>\n",
       "      <td>0.025826</td>\n",
       "    </tr>\n",
       "    <tr>\n",
       "      <th rowspan=\"3\" valign=\"top\">10</th>\n",
       "      <th>1869</th>\n",
       "      <td>63</td>\n",
       "      <td>126</td>\n",
       "      <td>0.95</td>\n",
       "      <td>0.95</td>\n",
       "      <td>250</td>\n",
       "      <td>10</td>\n",
       "      <td>200</td>\n",
       "      <td>0.018330</td>\n",
       "    </tr>\n",
       "    <tr>\n",
       "      <th>1896</th>\n",
       "      <td>63</td>\n",
       "      <td>126</td>\n",
       "      <td>0.95</td>\n",
       "      <td>0.95</td>\n",
       "      <td>250</td>\n",
       "      <td>10</td>\n",
       "      <td>275</td>\n",
       "      <td>0.018164</td>\n",
       "    </tr>\n",
       "    <tr>\n",
       "      <th>1878</th>\n",
       "      <td>63</td>\n",
       "      <td>126</td>\n",
       "      <td>0.95</td>\n",
       "      <td>0.95</td>\n",
       "      <td>250</td>\n",
       "      <td>10</td>\n",
       "      <td>225</td>\n",
       "      <td>0.018155</td>\n",
       "    </tr>\n",
       "    <tr>\n",
       "      <th rowspan=\"3\" valign=\"top\">21</th>\n",
       "      <th>3245</th>\n",
       "      <td>126</td>\n",
       "      <td>63</td>\n",
       "      <td>0.95</td>\n",
       "      <td>0.75</td>\n",
       "      <td>250</td>\n",
       "      <td>21</td>\n",
       "      <td>25</td>\n",
       "      <td>0.034465</td>\n",
       "    </tr>\n",
       "    <tr>\n",
       "      <th>3246</th>\n",
       "      <td>126</td>\n",
       "      <td>63</td>\n",
       "      <td>0.95</td>\n",
       "      <td>0.95</td>\n",
       "      <td>250</td>\n",
       "      <td>21</td>\n",
       "      <td>25</td>\n",
       "      <td>0.033715</td>\n",
       "    </tr>\n",
       "    <tr>\n",
       "      <th>3263</th>\n",
       "      <td>126</td>\n",
       "      <td>63</td>\n",
       "      <td>0.95</td>\n",
       "      <td>0.75</td>\n",
       "      <td>250</td>\n",
       "      <td>21</td>\n",
       "      <td>75</td>\n",
       "      <td>0.033576</td>\n",
       "    </tr>\n",
       "  </tbody>\n",
       "</table>\n",
       "</div>"
      ],
      "text/plain": [
       "         train_length  test_length  bagging_fraction  feature_fraction  \\\n",
       "t                                                                        \n",
       "1  395           1260           63              0.75              0.95   \n",
       "   362           1260           63              0.75              0.75   \n",
       "   368           1260           63              0.75              0.95   \n",
       "5  1277          1260           63              0.75              0.95   \n",
       "   1271          1260           63              0.75              0.75   \n",
       "   1295          1260           63              0.75              0.95   \n",
       "10 1869            63          126              0.95              0.95   \n",
       "   1896            63          126              0.95              0.95   \n",
       "   1878            63          126              0.95              0.95   \n",
       "21 3245           126           63              0.95              0.75   \n",
       "   3246           126           63              0.95              0.95   \n",
       "   3263           126           63              0.95              0.75   \n",
       "\n",
       "         min_data_in_leaf   t  rounds        ic  \n",
       "t                                                \n",
       "1  395                500   1     100  0.035044  \n",
       "   362                500   1      25  0.034750  \n",
       "   368                500   1      25  0.034583  \n",
       "5  1277               500   5      50  0.026968  \n",
       "   1271               500   5      50  0.025840  \n",
       "   1295               500   5     100  0.025826  \n",
       "10 1869               250  10     200  0.018330  \n",
       "   1896               250  10     275  0.018164  \n",
       "   1878               250  10     225  0.018155  \n",
       "21 3245               250  21      25  0.034465  \n",
       "   3246               250  21      25  0.033715  \n",
       "   3263               250  21      75  0.033576  "
      ]
     },
     "execution_count": 83,
     "metadata": {},
     "output_type": "execute_result"
    }
   ],
   "source": [
    "ic.groupby('t').apply(lambda x: x.nlargest(3, 'ic'))"
   ]
  },
  {
   "cell_type": "markdown",
   "metadata": {},
   "source": [
    "#### Visualiztion"
   ]
  },
  {
   "cell_type": "code",
   "execution_count": 84,
   "metadata": {
    "ExecuteTime": {
     "end_time": "2021-02-23T21:10:28.369762Z",
     "start_time": "2021-02-23T21:10:27.970520Z"
    }
   },
   "outputs": [
    {
     "data": {
      "image/png": "[encoded data removed]",
      "text/plain": [
       "<Figure size 1440x360 with 4 Axes>"
      ]
     },
     "metadata": {},
     "output_type": "display_data"
    }
   ],
   "source": [
    "g = sns.catplot(x='t',\n",
    "                y='ic',\n",
    "                col='train_length',\n",
    "                row='test_length',\n",
    "                data=ic[(ic.test_length == 63) & (ic.t <= 21)],\n",
    "                kind='box')"
   ]
  },
  {
   "cell_type": "code",
   "execution_count": 85,
   "metadata": {},
   "outputs": [
    {
     "data": {
      "image/png": "[encoded data removed]",
      "text/plain": [
       "<Figure size 360x360 with 1 Axes>"
      ]
     },
     "metadata": {},
     "output_type": "display_data"
    }
   ],
   "source": [
    "g = sns.catplot(x='t',\n",
    "                y='ic',\n",
    "                col='train_length',\n",
    "                row='test_length',\n",
    "                data=ic[(ic.test_length == 126) & (ic.t <= 21)],\n",
    "                kind='box')"
   ]
  },
  {
   "cell_type": "code",
   "execution_count": 86,
   "metadata": {},
   "outputs": [
    {
     "data": {
      "text/plain": [
       "Series([], Name: min_data_in_leaf, dtype: int64)"
      ]
     },
     "execution_count": 86,
     "metadata": {},
     "output_type": "execute_result"
    }
   ],
   "source": [
    "what = ic[(ic.t == t) &\n",
    "    (ic.train_length == train_length) &\n",
    "    (ic.test_length == test_length)]\n",
    "what['min_data_in_leaf'].value_counts()"
   ]
  },
  {
   "cell_type": "code",
   "execution_count": 87,
   "metadata": {},
   "outputs": [
    {
     "data": {
      "text/plain": [
       "[(0.5, 0.75, 100),\n",
       " (0.5, 0.75, 250),\n",
       " (0.75, 0.75, 500),\n",
       " (0.5, 0.95, 500),\n",
       " (0.5, 0.95, 100),\n",
       " (0.95, 0.75, 250),\n",
       " (0.95, 0.95, 250),\n",
       " (0.95, 0.95, 100),\n",
       " (0.75, 0.95, 500)]"
      ]
     },
     "execution_count": 87,
     "metadata": {},
     "output_type": "execute_result"
    }
   ],
   "source": [
    "cv_params_"
   ]
  },
  {
   "cell_type": "code",
   "execution_count": 95,
   "metadata": {},
   "outputs": [
    {
     "data": {
      "text/html": [
       "<div>\n",
       "<style scoped>\n",
       "    .dataframe tbody tr th:only-of-type {\n",
       "        vertical-align: middle;\n",
       "    }\n",
       "\n",
       "    .dataframe tbody tr th {\n",
       "        vertical-align: top;\n",
       "    }\n",
       "\n",
       "    .dataframe thead th {\n",
       "        text-align: right;\n",
       "    }\n",
       "</style>\n",
       "<table border=\"1\" class=\"dataframe\">\n",
       "  <thead>\n",
       "    <tr style=\"text-align: right;\">\n",
       "      <th></th>\n",
       "      <th>train_length</th>\n",
       "      <th>test_length</th>\n",
       "      <th>bagging_fraction</th>\n",
       "      <th>feature_fraction</th>\n",
       "      <th>min_data_in_leaf</th>\n",
       "      <th>t</th>\n",
       "      <th>rounds</th>\n",
       "      <th>ic</th>\n",
       "    </tr>\n",
       "  </thead>\n",
       "  <tbody>\n",
       "    <tr>\n",
       "      <th>0</th>\n",
       "      <td>63</td>\n",
       "      <td>126</td>\n",
       "      <td>0.50</td>\n",
       "      <td>0.75</td>\n",
       "      <td>100</td>\n",
       "      <td>1</td>\n",
       "      <td>25</td>\n",
       "      <td>-0.002676</td>\n",
       "    </tr>\n",
       "    <tr>\n",
       "      <th>1</th>\n",
       "      <td>63</td>\n",
       "      <td>126</td>\n",
       "      <td>0.50</td>\n",
       "      <td>0.75</td>\n",
       "      <td>250</td>\n",
       "      <td>1</td>\n",
       "      <td>25</td>\n",
       "      <td>NaN</td>\n",
       "    </tr>\n",
       "    <tr>\n",
       "      <th>2</th>\n",
       "      <td>63</td>\n",
       "      <td>126</td>\n",
       "      <td>0.75</td>\n",
       "      <td>0.75</td>\n",
       "      <td>500</td>\n",
       "      <td>1</td>\n",
       "      <td>25</td>\n",
       "      <td>NaN</td>\n",
       "    </tr>\n",
       "    <tr>\n",
       "      <th>3</th>\n",
       "      <td>63</td>\n",
       "      <td>126</td>\n",
       "      <td>0.50</td>\n",
       "      <td>0.95</td>\n",
       "      <td>500</td>\n",
       "      <td>1</td>\n",
       "      <td>25</td>\n",
       "      <td>NaN</td>\n",
       "    </tr>\n",
       "    <tr>\n",
       "      <th>4</th>\n",
       "      <td>63</td>\n",
       "      <td>126</td>\n",
       "      <td>0.50</td>\n",
       "      <td>0.95</td>\n",
       "      <td>100</td>\n",
       "      <td>1</td>\n",
       "      <td>25</td>\n",
       "      <td>-0.002855</td>\n",
       "    </tr>\n",
       "    <tr>\n",
       "      <th>...</th>\n",
       "      <td>...</td>\n",
       "      <td>...</td>\n",
       "      <td>...</td>\n",
       "      <td>...</td>\n",
       "      <td>...</td>\n",
       "      <td>...</td>\n",
       "      <td>...</td>\n",
       "      <td>...</td>\n",
       "    </tr>\n",
       "    <tr>\n",
       "      <th>3595</th>\n",
       "      <td>63</td>\n",
       "      <td>63</td>\n",
       "      <td>0.50</td>\n",
       "      <td>0.95</td>\n",
       "      <td>100</td>\n",
       "      <td>21</td>\n",
       "      <td>500</td>\n",
       "      <td>-0.010447</td>\n",
       "    </tr>\n",
       "    <tr>\n",
       "      <th>3596</th>\n",
       "      <td>63</td>\n",
       "      <td>63</td>\n",
       "      <td>0.95</td>\n",
       "      <td>0.75</td>\n",
       "      <td>250</td>\n",
       "      <td>21</td>\n",
       "      <td>500</td>\n",
       "      <td>-0.019505</td>\n",
       "    </tr>\n",
       "    <tr>\n",
       "      <th>3597</th>\n",
       "      <td>63</td>\n",
       "      <td>63</td>\n",
       "      <td>0.95</td>\n",
       "      <td>0.95</td>\n",
       "      <td>250</td>\n",
       "      <td>21</td>\n",
       "      <td>500</td>\n",
       "      <td>-0.019910</td>\n",
       "    </tr>\n",
       "    <tr>\n",
       "      <th>3598</th>\n",
       "      <td>63</td>\n",
       "      <td>63</td>\n",
       "      <td>0.95</td>\n",
       "      <td>0.95</td>\n",
       "      <td>100</td>\n",
       "      <td>21</td>\n",
       "      <td>500</td>\n",
       "      <td>-0.022249</td>\n",
       "    </tr>\n",
       "    <tr>\n",
       "      <th>3599</th>\n",
       "      <td>63</td>\n",
       "      <td>63</td>\n",
       "      <td>0.75</td>\n",
       "      <td>0.95</td>\n",
       "      <td>500</td>\n",
       "      <td>21</td>\n",
       "      <td>500</td>\n",
       "      <td>NaN</td>\n",
       "    </tr>\n",
       "  </tbody>\n",
       "</table>\n",
       "<p>3600 rows × 8 columns</p>\n",
       "</div>"
      ],
      "text/plain": [
       "      train_length  test_length  bagging_fraction  feature_fraction  \\\n",
       "0               63          126              0.50              0.75   \n",
       "1               63          126              0.50              0.75   \n",
       "2               63          126              0.75              0.75   \n",
       "3               63          126              0.50              0.95   \n",
       "4               63          126              0.50              0.95   \n",
       "...            ...          ...               ...               ...   \n",
       "3595            63           63              0.50              0.95   \n",
       "3596            63           63              0.95              0.75   \n",
       "3597            63           63              0.95              0.95   \n",
       "3598            63           63              0.95              0.95   \n",
       "3599            63           63              0.75              0.95   \n",
       "\n",
       "      min_data_in_leaf   t  rounds        ic  \n",
       "0                  100   1      25 -0.002676  \n",
       "1                  250   1      25       NaN  \n",
       "2                  500   1      25       NaN  \n",
       "3                  500   1      25       NaN  \n",
       "4                  100   1      25 -0.002855  \n",
       "...                ...  ..     ...       ...  \n",
       "3595               100  21     500 -0.010447  \n",
       "3596               250  21     500 -0.019505  \n",
       "3597               250  21     500 -0.019910  \n",
       "3598               100  21     500 -0.022249  \n",
       "3599               500  21     500       NaN  \n",
       "\n",
       "[3600 rows x 8 columns]"
      ]
     },
     "execution_count": 95,
     "metadata": {},
     "output_type": "execute_result"
    }
   ],
   "source": [
    "ic"
   ]
  },
  {
   "cell_type": "code",
   "execution_count": 96,
   "metadata": {
    "ExecuteTime": {
     "end_time": "2021-02-23T21:10:37.904492Z",
     "start_time": "2021-02-23T21:10:30.194796Z"
    }
   },
   "outputs": [
    {
     "data": {
      "image/png": "[encoded data removed]",
      "text/plain": [
       "<Figure size 802.75x1080 with 6 Axes>"
      ]
     },
     "metadata": {},
     "output_type": "display_data"
    }
   ],
   "source": [
    "t = 1\n",
    "train_length = 63\n",
    "test_length = 126\n",
    "g = sns.catplot(x='rounds',\n",
    "    y='ic',\n",
    "    col='feature_fraction',\n",
    "    hue='bagging_fraction',\n",
    "    row='min_data_in_leaf',\n",
    "    data=ic[(ic.t == t) &\n",
    "            (ic.train_length == train_length) &\n",
    "            (ic.test_length == test_length)],\n",
    "    kind='swarm')"
   ]
  },
  {
   "cell_type": "markdown",
   "metadata": {},
   "source": [
    "### Random Forest vs Linear Regression "
   ]
  },
  {
   "cell_type": "markdown",
   "metadata": {},
   "source": [
    "Let's compare the best-performing (in-sample) random forest models to our linear regression baseline:"
   ]
  },
  {
   "cell_type": "code",
   "execution_count": 97,
   "metadata": {
    "ExecuteTime": {
     "end_time": "2021-02-23T21:10:51.280229Z",
     "start_time": "2021-02-23T21:10:51.271304Z"
    }
   },
   "outputs": [
    {
     "name": "stdout",
     "output_type": "stream",
     "text": [
      "<class 'pandas.core.frame.DataFrame'>\n",
      "RangeIndex: 40 entries, 0 to 39\n",
      "Data columns (total 5 columns):\n",
      " #   Column        Non-Null Count  Dtype  \n",
      "---  ------        --------------  -----  \n",
      " 0   lookahead     40 non-null     int64  \n",
      " 1   train_length  40 non-null     int64  \n",
      " 2   test_length   40 non-null     int64  \n",
      " 3   ic_by_day     40 non-null     float64\n",
      " 4   ic            40 non-null     float64\n",
      "dtypes: float64(2), int64(3)\n",
      "memory usage: 1.7 KB\n"
     ]
    }
   ],
   "source": [
    "lr_metrics = pd.read_csv(results_path / 'sector_lin_reg_performance.csv')\n",
    "lr_metrics.info()"
   ]
  },
  {
   "cell_type": "code",
   "execution_count": 98,
   "metadata": {
    "ExecuteTime": {
     "end_time": "2021-02-23T21:10:52.660412Z",
     "start_time": "2021-02-23T21:10:52.652725Z"
    }
   },
   "outputs": [
    {
     "name": "stdout",
     "output_type": "stream",
     "text": [
      "<class 'pandas.core.frame.DataFrame'>\n",
      "RangeIndex: 3600 entries, 0 to 3599\n",
      "Data columns (total 8 columns):\n",
      " #   Column            Non-Null Count  Dtype  \n",
      "---  ------            --------------  -----  \n",
      " 0   t                 3600 non-null   int64  \n",
      " 1   train_length      3600 non-null   int64  \n",
      " 2   test_length       3600 non-null   int64  \n",
      " 3   bagging_fraction  3600 non-null   float64\n",
      " 4   feature_fraction  3600 non-null   float64\n",
      " 5   min_data_in_leaf  3600 non-null   int64  \n",
      " 6   rounds            3600 non-null   int64  \n",
      " 7   ic                2760 non-null   float64\n",
      "dtypes: float64(3), int64(5)\n",
      "memory usage: 225.1 KB\n"
     ]
    }
   ],
   "source": [
    "daily_ic_avg.info()"
   ]
  },
  {
   "cell_type": "markdown",
   "metadata": {},
   "source": [
    "The results are mixed: for the shortest and longest horizons, the random forest outperforms (slightly for 1 day), while linear regression is competitive for the intermediate horizons:"
   ]
  },
  {
   "cell_type": "code",
   "execution_count": 99,
   "metadata": {
    "ExecuteTime": {
     "end_time": "2021-02-23T21:10:55.223622Z",
     "start_time": "2021-02-23T21:10:55.032734Z"
    }
   },
   "outputs": [
    {
     "data": {
      "image/png": "[encoded data removed]",
      "text/plain": [
       "<Figure size 432x288 with 1 Axes>"
      ]
     },
     "metadata": {},
     "output_type": "display_data"
    }
   ],
   "source": [
    "with sns.axes_style(\"white\"):\n",
    "    ax = (ic.groupby('t').ic.max().to_frame('Random Forest')\n",
    "     .join(lr_metrics.groupby('lookahead').ic.max().to_frame('Linear Regression')).plot.barh())\n",
    "    ax.set_ylabel('Lookahead')\n",
    "    ax.set_xlabel('Information Coefficient')\n",
    "    sns.despine()\n",
    "    plt.tight_layout();"
   ]
  },
  {
   "cell_type": "markdown",
   "metadata": {},
   "source": [
    "## Generate predictions"
   ]
  },
  {
   "cell_type": "markdown",
   "metadata": {},
   "source": [
    "To build and evaluate a trading strategy, we create predictions for the 2018-19 period using the 10 best models that we then ensemble:"
   ]
  },
  {
   "cell_type": "code",
   "execution_count": 100,
   "metadata": {
    "ExecuteTime": {
     "end_time": "2021-02-23T21:10:56.276550Z",
     "start_time": "2021-02-23T21:10:56.274762Z"
    }
   },
   "outputs": [],
   "source": [
    "param_cols = ['train_length', 'test_length', 'bagging_fraction',\n",
    "              'feature_fraction', 'min_data_in_leaf', 'rounds']"
   ]
  },
  {
   "cell_type": "code",
   "execution_count": 101,
   "metadata": {
    "ExecuteTime": {
     "end_time": "2021-02-23T21:10:58.310089Z",
     "start_time": "2021-02-23T21:10:58.304594Z"
    }
   },
   "outputs": [],
   "source": [
    "def get_params(data, t=5, best=0):\n",
    "    df = data[data.t == t].sort_values('ic', ascending=False).iloc[best]\n",
    "    df = df.loc[param_cols]\n",
    "    rounds = int(df.rounds)\n",
    "    params = pd.to_numeric(df.drop('rounds'))\n",
    "    return params, rounds"
   ]
  },
  {
   "cell_type": "code",
   "execution_count": 102,
   "metadata": {
    "ExecuteTime": {
     "end_time": "2021-02-23T21:10:58.550817Z",
     "start_time": "2021-02-23T21:10:58.548693Z"
    }
   },
   "outputs": [],
   "source": [
    "base_params = dict(boosting_type='rf',\n",
    "                   objective='regression',\n",
    "                   bagging_freq=1,\n",
    "                   verbose=-1)\n",
    "\n",
    "store = Path(results_path / 'predictions.h5')"
   ]
  },
  {
   "cell_type": "code",
   "execution_count": 111,
   "metadata": {
    "ExecuteTime": {
     "end_time": "2021-02-23T21:39:01.014230Z",
     "start_time": "2021-02-23T21:29:25.042746Z"
    },
    "scrolled": false
   },
   "outputs": [
    {
     "name": "stdout",
     "output_type": "stream",
     "text": [
      "\n",
      "Lookahead: 21\n",
      "\tPosition: 00\n",
      "\tPosition: 01\n",
      "\tPosition: 02\n"
     ]
    }
   ],
   "source": [
    "# for lookahead in [1, 5, 10, 21]:\n",
    "num_pos = 3\n",
    "lookahead = 10\n",
    "for lookahead in [21]:\n",
    "\n",
    "    print(f'\\nLookahead: {lookahead:02}')\n",
    "    data = (pd.read_hdf('data/sector_data.h5', 'features_data'))\n",
    "    data.index.set_names('date', level=1, inplace=True)\n",
    "    labels = sorted(data.filter(like='fwd').columns)\n",
    "    features = data.columns.difference(labels).tolist()\n",
    "    label = f'fwd_ret_{lookahead:02}'\n",
    "    data = data.loc[:, features + [label]].dropna()\n",
    "\n",
    "    categoricals = ['year', 'weekday', 'month']\n",
    "    for feature in categoricals:\n",
    "        data[feature] = pd.factorize(data[feature], sort=True)[0]\n",
    "\n",
    "    lgb_data = lgb.Dataset(data=data[features],\n",
    "                           label=data[label],\n",
    "                           categorical_feature=categoricals,\n",
    "                           free_raw_data=False)\n",
    "    \n",
    "    for position in range(num_pos):\n",
    "        params, num_boost_round = get_params(daily_ic_avg,\n",
    "                                             t=lookahead,\n",
    "                                             best=position)\n",
    "        params = params.to_dict()\n",
    "        params['min_data_in_leaf'] = int(params['min_data_in_leaf'])\n",
    "        train_length = int(params.pop('train_length'))\n",
    "        test_length = int(params.pop('test_length'))\n",
    "        params.update(base_params)\n",
    "\n",
    "        print(f'\\tPosition: {position:02}')\n",
    "\n",
    "        n_splits = int(4 * YEAR / test_length)\n",
    "        cv = MultipleTimeSeriesCV(n_splits=n_splits,\n",
    "                                  test_period_length=test_length,\n",
    "                                  lookahead=lookahead,\n",
    "                                  train_period_length=train_length)\n",
    "\n",
    "        predictions = []\n",
    "        start = time()\n",
    "        for i, (train_idx, test_idx) in enumerate(cv.split(X=data), 1):\n",
    "            train_set = lgb_data.subset(used_indices=train_idx.tolist(),\n",
    "                                        params=params).construct()\n",
    "    \n",
    "            model = lgb.train(params=params,\n",
    "                              train_set=train_set,\n",
    "                              num_boost_round=num_boost_round,\n",
    "                              verbose_eval=False)\n",
    "\n",
    "            test_set = data.iloc[test_idx, :]\n",
    "            y_test = test_set.loc[:, label].to_frame('y_test')\n",
    "            y_pred = model.predict(test_set.loc[:, model.feature_name()])\n",
    "            predictions.append(y_test.assign(prediction=y_pred))\n",
    "\n",
    "        if position == 0:\n",
    "            test_predictions = (pd.concat(predictions)\n",
    "                                .rename(columns={'prediction': position}))\n",
    "        else:\n",
    "            test_predictions[position] = pd.concat(predictions).prediction\n",
    "        \n",
    "\n",
    "    by_day = test_predictions.groupby(level='date')\n",
    "    for position in range(num_pos):\n",
    "        if position == 0:\n",
    "            ic_by_day = by_day.apply(lambda x: spearmanr(x.y_test, x[position])[0]).to_frame()\n",
    "        else:\n",
    "            ic_by_day[position] = by_day.apply(lambda x: spearmanr(x.y_test, x[position])[0])\n",
    "\n",
    "    test_predictions.to_hdf(store, f'test/{lookahead:02}')"
   ]
  },
  {
   "cell_type": "code",
   "execution_count": 104,
   "metadata": {},
   "outputs": [
    {
     "data": {
      "text/plain": [
       "(train_length         63.00\n",
       " test_length         126.00\n",
       " bagging_fraction      0.50\n",
       " feature_fraction      0.75\n",
       " min_data_in_leaf    100.00\n",
       " Name: 182, dtype: float64,\n",
       " 75)"
      ]
     },
     "execution_count": 104,
     "metadata": {},
     "output_type": "execute_result"
    }
   ],
   "source": [
    "get_params(daily_ic_avg,\n",
    "            t=1\n",
    "            )"
   ]
  },
  {
   "cell_type": "markdown",
   "metadata": {},
   "source": [
    "Train and save model"
   ]
  },
  {
   "cell_type": "code",
   "execution_count": 106,
   "metadata": {},
   "outputs": [],
   "source": [
    "# for lookahead in [1, 5, 10, 21]:\n",
    "lookahead = 1\n",
    "\n",
    "data = (pd.read_hdf('data/sector_data.h5', 'features_data'))\n",
    "data.index.set_names('date', level=1, inplace=True)\n",
    "labels = sorted(data.filter(like='fwd').columns)\n",
    "features = data.columns.difference(labels).tolist()\n",
    "label = f'fwd_ret_{lookahead:02}'\n",
    "data = data.loc[:, features + [label]].dropna()\n",
    "\n",
    "categoricals = ['year', 'weekday', 'month']\n",
    "for feature in categoricals:\n",
    "    data[feature] = pd.factorize(data[feature], sort=True)[0]\n",
    "\n",
    "lgb_data = lgb.Dataset(data=data[features],\n",
    "                        label=data[label],\n",
    "                        categorical_feature=categoricals,\n",
    "                        free_raw_data=False)\n",
    "\n",
    "\n",
    "params, num_boost_round = get_params(daily_ic_avg,\n",
    "                                    t=lookahead\n",
    "                                    )\n",
    "params = params.to_dict()\n",
    "params['min_data_in_leaf'] = int(params['min_data_in_leaf'])\n",
    "train_length = int(params.pop('train_length'))\n",
    "test_length = int(params.pop('test_length'))\n",
    "params.update(base_params)\n",
    "\n",
    "\n",
    "n_splits = int(14 * YEAR / test_length)\n",
    "cv = MultipleTimeSeriesCV(n_splits=n_splits,\n",
    "                            test_period_length=test_length,\n",
    "                            lookahead=lookahead,\n",
    "                            train_period_length=train_length)\n",
    "\n",
    "predictions = []\n",
    "loaded_predictions = []\n",
    "start = time()\n",
    "for i, (train_idx, test_idx) in enumerate(cv.split(X=data), 1):\n",
    "    train_set = lgb_data.subset(used_indices=train_idx.tolist(),\n",
    "                                params=params).construct()\n",
    "\n",
    "    model = lgb.train(params=params,\n",
    "                        train_set=train_set,\n",
    "                        num_boost_round=num_boost_round,\n",
    "                        verbose_eval=False)\n",
    "    \n",
    "    model.save_model(f'../saved/model_{i}.txt', num_iteration=model.best_iteration)\n",
    "\n",
    "    test_set = data.iloc[test_idx, :]\n",
    "    y_test = test_set.loc[:, label].to_frame('y_test')\n",
    "    y_pred = model.predict(test_set.loc[:, model.feature_name()])\n",
    "    predictions.append(y_test.assign(prediction=y_pred))\n",
    "\n",
    "    # model = lgb.Booster(model_file=f'../saved/model_{i}.txt')\n",
    "    # y_pred = model.predict(test_set.loc[:, model.feature_name()])\n",
    "    # loaded_predictions.append(y_test.assign(prediction=y_pred))"
   ]
  },
  {
   "cell_type": "code",
   "execution_count": null,
   "metadata": {},
   "outputs": [],
   "source": []
  }
 ],
 "metadata": {
  "kernelspec": {
   "display_name": "Python 3.8.8 ('ml4t')",
   "language": "python",
   "name": "python3"
  },
  "language_info": {
   "codemirror_mode": {
    "name": "ipython",
    "version": 3
   },
   "file_extension": ".py",
   "mimetype": "text/x-python",
   "name": "python",
   "nbconvert_exporter": "python",
   "pygments_lexer": "ipython3",
   "version": "3.8.8"
  },
  "toc": {
   "base_numbering": 1,
   "nav_menu": {},
   "number_sections": true,
   "sideBar": true,
   "skip_h1_title": true,
   "title_cell": "Table of Contents",
   "title_sidebar": "Contents",
   "toc_cell": false,
   "toc_position": {
    "height": "calc(100% - 180px)",
    "left": "10px",
    "top": "150px",
    "width": "374.162px"
   },
   "toc_section_display": true,
   "toc_window_display": true
  },
  "vscode": {
   "interpreter": {
    "hash": "6749390b47520845cc086e326ee9fec37d3989efb6571b4a44ea0934076d95fa"
   }
  }
 },
 "nbformat": 4,
 "nbformat_minor": 2
}
